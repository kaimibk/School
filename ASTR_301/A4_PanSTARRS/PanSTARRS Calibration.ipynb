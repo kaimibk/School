{
 "cells": [
  {
   "cell_type": "markdown",
   "metadata": {
    "deletable": true,
    "editable": true,
    "toc": true
   },
   "source": [
    "<h1>Table of Contents<span class=\"tocSkip\"></span></h1>\n",
    "<div class=\"toc\"><ul class=\"toc-item\"><li><span><a href=\"#Assignment-Tasks\" data-toc-modified-id=\"Assignment-Tasks-1\"><span class=\"toc-item-num\">1&nbsp;&nbsp;</span>Assignment Tasks</a></span></li><li><span><a href=\"#Match-r/i/z-catalogs-to-PanSTARRS\" data-toc-modified-id=\"Match-r/i/z-catalogs-to-PanSTARRS-2\"><span class=\"toc-item-num\">2&nbsp;&nbsp;</span>Match r/i/z catalogs to PanSTARRS</a></span></li><li><span><a href=\"#Reading-SExtractor-.cat-file\" data-toc-modified-id=\"Reading-SExtractor-.cat-file-3\"><span class=\"toc-item-num\">3&nbsp;&nbsp;</span>Reading SExtractor .cat file</a></span></li><li><span><a href=\"#Converting-to-SkyCoord-Objects\" data-toc-modified-id=\"Converting-to-SkyCoord-Objects-4\"><span class=\"toc-item-num\">4&nbsp;&nbsp;</span>Converting to SkyCoord Objects</a></span></li><li><span><a href=\"#Matching-SE-Coordinates-to-Catalog\" data-toc-modified-id=\"Matching-SE-Coordinates-to-Catalog-5\"><span class=\"toc-item-num\">5&nbsp;&nbsp;</span>Matching SE Coordinates to Catalog</a></span></li><li><span><a href=\"#Curve-Fitting\" data-toc-modified-id=\"Curve-Fitting-6\"><span class=\"toc-item-num\">6&nbsp;&nbsp;</span>Curve Fitting</a></span></li><li><span><a href=\"#Execute\" data-toc-modified-id=\"Execute-7\"><span class=\"toc-item-num\">7&nbsp;&nbsp;</span>Execute</a></span></li><li><span><a href=\"#SVR\" data-toc-modified-id=\"SVR-8\"><span class=\"toc-item-num\">8&nbsp;&nbsp;</span>SVR</a></span></li><li><span><a href=\"#Plotting\" data-toc-modified-id=\"Plotting-9\"><span class=\"toc-item-num\">9&nbsp;&nbsp;</span>Plotting</a></span></li><li><span><a href=\"#Color-Color-Plots\" data-toc-modified-id=\"Color-Color-Plots-10\"><span class=\"toc-item-num\">10&nbsp;&nbsp;</span>Color Color Plots</a></span></li><li><span><a href=\"#Reading-in-SED\" data-toc-modified-id=\"Reading-in-SED-11\"><span class=\"toc-item-num\">11&nbsp;&nbsp;</span>Reading in SED</a></span></li><li><span><a href=\"#Using-UH88-Quantum-Efficiency\" data-toc-modified-id=\"Using-UH88-Quantum-Efficiency-12\"><span class=\"toc-item-num\">12&nbsp;&nbsp;</span>Using UH88 Quantum Efficiency</a></span></li></ul></div>"
   ]
  },
  {
   "cell_type": "code",
   "execution_count": 1,
   "metadata": {
    "collapsed": true,
    "deletable": true,
    "editable": true
   },
   "outputs": [],
   "source": [
    "import pandas as pd\n",
    "import numpy as np\n",
    "from astropy.io import ascii\n",
    "import matplotlib.pyplot as plt\n",
    "from astropy.coordinates import SkyCoord\n",
    "from astropy.coordinates import match_coordinates_sky\n",
    "from astropy import units as u\n",
    "from scipy.odr import ODR, Model, Data, RealData\n",
    "from uncertainties import ufloat, unumpy"
   ]
  },
  {
   "cell_type": "code",
   "execution_count": 2,
   "metadata": {
    "collapsed": true,
    "deletable": true,
    "editable": true
   },
   "outputs": [],
   "source": [
    "main_dir = \"/Volumes/LaCie/School/ASTR_301/Object Catalogs/NEP_5281/\""
   ]
  },
  {
   "cell_type": "markdown",
   "metadata": {
    "deletable": true,
    "editable": true
   },
   "source": [
    "## Assignment Tasks"
   ]
  },
  {
   "cell_type": "markdown",
   "metadata": {
    "deletable": true,
    "editable": true
   },
   "source": [
    "___\n",
    "1. Match r/i/z catalogs to PanSTARRS\n",
    "1. Determine zero point offset, possible color term.\n",
    "    $$PS_{M_i} = A \\cdot M_i + ZP + [B \\cdot (M_r-M_i)+C \\cdot(M_i - M_z)]$$\n",
    "1. Make calibrated catalogs\n",
    "1. Plot PanSTARRS mag against observed\n",
    "___\n",
    "**OPTIONAL**\n",
    "1. Compute galaxy colors and compare to your model colors\n",
    "    1. Calculate observed r-i, i-z\n",
    "    1. Overlay models\n",
    "    1. Find closest match by finding reasonble redshift\n",
    "1. Look at error in magnitude and propagate\n",
    "    1. Find error in r-i, i-z\n",
    "    1. Determine what range of z or models fits within the errors\n",
    "1. Plot Error against Mag"
   ]
  },
  {
   "cell_type": "markdown",
   "metadata": {
    "deletable": true,
    "editable": true
   },
   "source": [
    "## Match r/i/z catalogs to PanSTARRS\n",
    "___"
   ]
  },
  {
   "cell_type": "markdown",
   "metadata": {
    "deletable": true,
    "editable": true
   },
   "source": [
    "* Use the [PanSTARRS Database](http://mastweb.stsci.edu/ps1casjobs/) and run an SQL query to extract panstarrs data on galaxy of choice.\n",
    "* Use Astropy match_coordinates_sky\n",
    "    ```python\n",
    "    from astropy.coordinates import match_coordinates_sky\n",
    "    ```\n",
    "* Note that PanSTARRS catalog only includes highly sampled targets, therefore there will be less objects within the field."
   ]
  },
  {
   "cell_type": "markdown",
   "metadata": {
    "deletable": true,
    "editable": true
   },
   "source": [
    "## Reading SExtractor .cat file"
   ]
  },
  {
   "cell_type": "code",
   "execution_count": 3,
   "metadata": {
    "code_folding": [],
    "collapsed": true,
    "deletable": true,
    "editable": true
   },
   "outputs": [],
   "source": [
    "def parse_cat(obj ,filter):\n",
    "    data = ascii.read(main_dir+\"{}_{}.cat\".format(obj,filter))\n",
    "    data.write(main_dir+\"SE_{}.csv\".format(filter), format=\"csv\")\n",
    "    \n",
    "    df = pd.read_csv(main_dir+\"SE_{}.csv\".format(filter))\n",
    "    df = df.drop([\"NUMBER\"], axis=1)\n",
    "    df.to_csv(main_dir+\"SE_{}.csv\".format(filter))\n",
    "    \n",
    "    return df"
   ]
  },
  {
   "cell_type": "markdown",
   "metadata": {
    "deletable": true,
    "editable": true
   },
   "source": [
    "## Converting to SkyCoord Objects"
   ]
  },
  {
   "cell_type": "code",
   "execution_count": 4,
   "metadata": {
    "code_folding": [],
    "collapsed": false,
    "deletable": true,
    "editable": true
   },
   "outputs": [],
   "source": [
    "def format_coord(ra, dec):\n",
    "    return SkyCoord(ra=[j*u.degree for j in ra], \n",
    "                    dec=[j*u.degree for j in dec], \n",
    "                     frame='icrs')    \n"
   ]
  },
  {
   "cell_type": "markdown",
   "metadata": {
    "deletable": true,
    "editable": true
   },
   "source": [
    "## Matching SE Coordinates to Catalog"
   ]
  },
  {
   "cell_type": "code",
   "execution_count": 5,
   "metadata": {
    "collapsed": false,
    "deletable": true,
    "editable": true
   },
   "outputs": [],
   "source": [
    "def cood_match(cat_frame, source_frame, source_loc, catalog_loc):\n",
    "    idx,_,_ = match_coordinates_sky(source_loc, catalog_loc)\n",
    "    matches = source_frame.iloc(idx)\n",
    "    df2 = source_frame.ix[idx]\n",
    "    df2.to_csv(main_dir+\"Pan_match.csv\")\n",
    "    xdata = source_frame[\"MAG_BEST\"].loc[idx]\n",
    "    ydata = cat_frame[\"{}MeanPSFMag\".format(filter)]\n",
    "    xerr = source_frame[\"MAGERR_BEST\"].iloc[idx]\n",
    "    yerr = cat_frame[\"{}MeanPSFMagErr\".format(filter)]\n",
    "    \n",
    "    data = np.column_stack([xdata, xerr, ydata, yerr])\n",
    "    np.savetxt(main_dir+\"stack_{}.csv\".format(filter), data)\n",
    "    \n",
    "    e = source_frame[\"ELLIPTICITY\"].loc[idx]\n",
    "\n",
    "    return (xdata, ydata, xerr, yerr, e)"
   ]
  },
  {
   "cell_type": "markdown",
   "metadata": {
    "collapsed": true,
    "deletable": true,
    "editable": true
   },
   "source": [
    "## Curve Fitting"
   ]
  },
  {
   "cell_type": "code",
   "execution_count": 6,
   "metadata": {
    "code_folding": [],
    "collapsed": true,
    "deletable": true,
    "editable": true
   },
   "outputs": [],
   "source": [
    "def func(p, x):\n",
    "    m,c= p\n",
    "    return m*x + c"
   ]
  },
  {
   "cell_type": "code",
   "execution_count": 7,
   "metadata": {
    "collapsed": true,
    "deletable": true,
    "editable": true
   },
   "outputs": [],
   "source": [
    "def fit_odr(x, y, xerr, yerr, verbose=False):\n",
    "    data = RealData(x, y,sx=xerr, sy=yerr)\n",
    "    model = Model(func)\n",
    "\n",
    "    odr = ODR(data, model, beta0=[1,13], maxit=10000)\n",
    "    out = odr.run()\n",
    "    \n",
    "    if verbose == True:\n",
    "        out.pprint()\n",
    "    \n",
    "    slope, intercept, slope_err, intercept_err = (out.beta[0], \n",
    "                                              out.beta[1], \n",
    "                                              out.sd_beta[0], \n",
    "                                              out.sd_beta[1])\n",
    "    \n",
    "    return (slope, intercept, slope_err, intercept_err)"
   ]
  },
  {
   "cell_type": "markdown",
   "metadata": {
    "deletable": true,
    "editable": true
   },
   "source": [
    "## Execute"
   ]
  },
  {
   "cell_type": "code",
   "execution_count": 8,
   "metadata": {
    "collapsed": false,
    "deletable": true,
    "editable": true
   },
   "outputs": [
    {
     "name": "stdout",
     "output_type": "stream",
     "text": [
      "Inspect NEP_5281, Filter r\n"
     ]
    },
    {
     "name": "stderr",
     "output_type": "stream",
     "text": [
      "WARNING: AstropyDeprecationWarning: /Volumes/LaCie/School/ASTR_301/Object Catalogs/NEP_5281/SE_r.csv already exists. Automatically overwriting ASCII files is deprecated. Use the argument 'overwrite=True' in the future. [astropy.io.ascii.ui]\n"
     ]
    },
    {
     "name": "stdout",
     "output_type": "stream",
     "text": [
      "Inspect NEP_5281, Filter i\n"
     ]
    },
    {
     "name": "stderr",
     "output_type": "stream",
     "text": [
      "WARNING: AstropyDeprecationWarning: /Volumes/LaCie/School/ASTR_301/Object Catalogs/NEP_5281/SE_i.csv already exists. Automatically overwriting ASCII files is deprecated. Use the argument 'overwrite=True' in the future. [astropy.io.ascii.ui]\n"
     ]
    },
    {
     "name": "stdout",
     "output_type": "stream",
     "text": [
      "Inspect NEP_5281, Filter z\n"
     ]
    },
    {
     "name": "stderr",
     "output_type": "stream",
     "text": [
      "WARNING: AstropyDeprecationWarning: /Volumes/LaCie/School/ASTR_301/Object Catalogs/NEP_5281/SE_z.csv already exists. Automatically overwriting ASCII files is deprecated. Use the argument 'overwrite=True' in the future. [astropy.io.ascii.ui]\n"
     ]
    }
   ],
   "source": [
    "if __name__ == \"__main__\":\n",
    "\n",
    "    obj = \"NEP_5281\"\n",
    "    \n",
    "    pan_cat = pd.read_csv(main_dir+\"{}_PANSTARRS.csv\".format(obj))\n",
    "    \n",
    "    filters = [\"r\", \"i\", \"z\"]\n",
    "    \n",
    "    slopes = []\n",
    "    intercepts = []\n",
    "    slope_errs = []\n",
    "    intercept_errs = []\n",
    "    \n",
    "    calibration = {}\n",
    "        \n",
    "    for filter in filters:\n",
    "        \n",
    "        print(\"Inspect {}, Filter {}\".format(obj, filter))\n",
    "        \n",
    "        df = parse_cat(obj, filter)\n",
    "\n",
    "        SE_loc = format_coord(df[\"ALPHA_J2000\"], df[\"DELTA_J2000\"])\n",
    "\n",
    "        pan_loc = format_coord(pan_cat[\"ra\"], pan_cat[\"dec\"])\n",
    "\n",
    "        xdata, ydata, xerr, yerr, e = cood_match(pan_cat, df, pan_loc, SE_loc)\n",
    "        \n",
    "        slope, intercept, slope_err, intercept_err = fit_odr(xdata, ydata, xerr, yerr)\n",
    "        \n",
    "        \n",
    "        err_x_data = unumpy.uarray(xdata, abs(xerr))\n",
    "        err_y_data = unumpy.uarray(ydata, abs(yerr))\n",
    "        slope = ufloat(slope, slope_err)\n",
    "        intercept = ufloat(intercept, intercept_err)\n",
    "        \n",
    "        slopes.append(slope)\n",
    "        intercepts.append(intercept)\n",
    "        slope_errs.append(slope_err)\n",
    "        intercept_errs.append(intercept_err)\n",
    "                        \n",
    "        calibration.update({filter : map(lambda data: slope * data + intercept, err_x_data)})\n",
    "        "
   ]
  },
  {
   "cell_type": "code",
   "execution_count": 9,
   "metadata": {
    "collapsed": false,
    "deletable": true,
    "editable": true
   },
   "outputs": [
    {
     "name": "stdout",
     "output_type": "stream",
     "text": [
      "\t Filter: r\n",
      "y = (0.964+/-0.023 +/- 0.0233037016884) x + (30.04+/-0.33 +/- 0.332287450176)\n",
      "\t Filter: i\n",
      "y = (0.983+/-0.017 +/- 0.0174802869125) x + (29.94+/-0.24 +/- 0.24168074589)\n",
      "\t Filter: z\n",
      "y = (0.911+/-0.011 +/- 0.0108345971812) x + (27.94+/-0.15 +/- 0.147478750611)\n"
     ]
    }
   ],
   "source": [
    "for i in range(len(slopes)):\n",
    "    print(\"\\t Filter: {}\".format(filters[i]))\n",
    "    print(\"y = ({} +/- {}) x + ({} +/- {})\".format(slopes[i],\n",
    "                                                     slope_errs[i],\n",
    "                                                     intercepts[i],\n",
    "                                                     intercept_errs[i]))\n"
   ]
  },
  {
   "cell_type": "code",
   "execution_count": 11,
   "metadata": {
    "collapsed": false,
    "deletable": true,
    "editable": true
   },
   "outputs": [],
   "source": [
    "rdata, idata, zdata = [calibration[i] for i in calibration.keys()]"
   ]
  },
  {
   "cell_type": "code",
   "execution_count": 12,
   "metadata": {
    "collapsed": false,
    "deletable": true,
    "editable": true
   },
   "outputs": [],
   "source": [
    "rdata = np.array(rdata)\n",
    "idata = np.array(idata)\n",
    "zdata = np.array(zdata)"
   ]
  },
  {
   "cell_type": "markdown",
   "metadata": {
    "deletable": true,
    "editable": true
   },
   "source": [
    "## SVR"
   ]
  },
  {
   "cell_type": "code",
   "execution_count": 13,
   "metadata": {
    "collapsed": false,
    "deletable": true,
    "editable": true
   },
   "outputs": [],
   "source": [
    "e = [int(round(e.values[i], 1)*100.0) for i in range(len(e))]"
   ]
  },
  {
   "cell_type": "code",
   "execution_count": 51,
   "metadata": {
    "collapsed": false,
    "deletable": true,
    "editable": true
   },
   "outputs": [],
   "source": [
    "X = np.array([[unumpy.nominal_values(err_x_data)[i], \n",
    "              unumpy.nominal_values(err_y_data)[i]]\n",
    "            for i in range(len(e))])\n",
    "y = e\n",
    "#clf = SVR(C=100.0, epsilon=0.5, kernel=\"rbf\")\n",
    "#test = clf.fit(X, y).predict(X)"
   ]
  },
  {
   "cell_type": "code",
   "execution_count": 127,
   "metadata": {
    "collapsed": false,
    "deletable": true,
    "editable": true
   },
   "outputs": [
    {
     "data": {
      "text/plain": [
       "<matplotlib.figure.Figure at 0x12134ba50>"
      ]
     },
     "metadata": {},
     "output_type": "display_data"
    },
    {
     "data": {
      "image/png": "[encoded data removed]",
      "text/plain": [
       "<matplotlib.figure.Figure at 0x114781e50>"
      ]
     },
     "metadata": {},
     "output_type": "display_data"
    }
   ],
   "source": [
    "from sklearn import svm\n",
    "import matplotlib.pyplot as plt\n",
    "\n",
    "plt.xkcd()\n",
    "plt.clf()\n",
    "f, ax2 = plt.subplots()\n",
    "\n",
    "\n",
    "xx, yy = np.meshgrid(np.linspace(-5, -17, 100),\n",
    "                     np.linspace(13, 25, 100))\n",
    "\n",
    "clf = svm.NuSVC(gamma=0.023, nu=0.006,\n",
    "               kernel=\"rbf\")\n",
    "clf.fit(X, y)\n",
    "\n",
    "Z = clf.decision_function(np.c_[xx.ravel(), yy.ravel()])\n",
    "Z = Z.reshape([100,100, -1])\n",
    "Z = Z[:, :, 0]\n",
    "\n",
    "#print(Z.shape)\n",
    "\n",
    "ax2.imshow(Z, interpolation='nearest',\n",
    "           extent=(xx.min(), xx.max(), yy.min(), yy.max()), aspect='auto',\n",
    "           origin='lower', cmap=plt.cm.viridis)\n",
    "\n",
    "contours = ax2.contour(xx, yy, Z, levels=[2], linewidths=2,\n",
    "                       linetypes='--', c=\"white\")\n",
    "\n",
    "ax2.scatter(X[:, 0], X[:, 1], s=40, c=y, cmap=plt.cm.jet,\n",
    "            edgecolors='k')\n",
    "\n",
    "\n",
    "\n",
    "ax2.set_ylabel(\"PanSTARRS Magnitude\")\n",
    "ax2.set_xlabel(\"SE Magnitude\")\n",
    "\n",
    "#ax2.grid(linestyle=':')\n",
    "plt.xlim(-6, -16)\n",
    "plt.ylim(22, 13)\n",
    "\n",
    "#ax1.set_aspect('equal')\n",
    "plt.savefig(main_dir+\"SVM.png\", dpi=300)\n",
    "plt.show()"
   ]
  },
  {
   "cell_type": "markdown",
   "metadata": {
    "deletable": true,
    "editable": true
   },
   "source": [
    "## Plotting"
   ]
  },
  {
   "cell_type": "code",
   "execution_count": 116,
   "metadata": {
    "collapsed": true,
    "deletable": true,
    "editable": true
   },
   "outputs": [],
   "source": [
    "import plotly.plotly  as py\n",
    "import plotly.graph_objs as go"
   ]
  },
  {
   "cell_type": "code",
   "execution_count": 125,
   "metadata": {
    "collapsed": false,
    "deletable": true,
    "editable": true
   },
   "outputs": [
    {
     "data": {
      "text/html": [
       "<iframe id=\"igraph\" scrolling=\"no\" style=\"border:none;\" seamless=\"seamless\" src=\"https://plot.ly/~kaimibk/75.embed\" height=\"525px\" width=\"100%\"></iframe>"
      ],
      "text/plain": [
       "<plotly.tools.PlotlyDisplay object>"
      ]
     },
     "execution_count": 125,
     "metadata": {},
     "output_type": "execute_result"
    }
   ],
   "source": [
    "trace1 = go.Scatter(\n",
    "        x = unumpy.nominal_values(err_x_data),\n",
    "        y = unumpy.nominal_values(err_y_data),\n",
    "\n",
    "        hoverinfo = \"all\",\n",
    "\n",
    "        marker = {\n",
    "                \"size\" : 10,\n",
    "                #\"color\" : \"blue\",\n",
    "                \"cmax\" : max(e),\n",
    "                \"cmin\" : min(e),\n",
    "                \"color\" : np.linspace(min(e), max(e), len(e)),\n",
    "        \n",
    "                \"colorbar\" : {\n",
    "                    \"title\" : \"ELLIPTICITY\"\n",
    "                    },\n",
    "                \"colorscale\" : \"Viridis\"\n",
    "            },\n",
    "\n",
    "        mode = 'markers',\n",
    "\n",
    "        error_y = {\n",
    "                \"type\" : \"data\",\n",
    "                \"array\" : unumpy.std_devs(err_y_data),\n",
    "                \"visible\" : True,\n",
    "                \"color\" : \"black\"\n",
    "                  },\n",
    "    \n",
    "        error_x = {\n",
    "                \"type\" : \"data\",\n",
    "                \"array\" : unumpy.std_devs(err_x_data),\n",
    "                \"visible\" : True,\n",
    "                \"color\" : \"black\"\n",
    "                  }\n",
    "            )\n",
    "\n",
    "y_temp = err_x_data*(slope/2) + (intercept-5)\n",
    "#y_temp = err_x_data*(slope) + (intercept)\n",
    "\n",
    "trace2 = go.Scatter(\n",
    "        x = unumpy.nominal_values(err_x_data),\n",
    "        y = unumpy.nominal_values(y_temp),\n",
    "        mode = \"lines\",\n",
    "        #name = \"y = {}*x + {}\".format(round(slope,2), round(intercept,2)),\n",
    "        line = {\n",
    "            \"color\" : \"orange\",\n",
    "            \"width\" : 4},\n",
    "        error_y = {\n",
    "            \"type\" : \"data\",\n",
    "            \"array\" : unumpy.std_devs(y_temp*2.0),\n",
    "            \"visible\" : True,\n",
    "            \"color\" : \"orange\"\n",
    "            }\n",
    "        )\n",
    "\n",
    "\n",
    "data = [trace2, trace1]\n",
    "\n",
    "layout = go.Layout(\n",
    "            showlegend=False,\n",
    "            title = \"{}, Filter: {}\".format(obj, filter),\n",
    "            xaxis = {\n",
    "                \"title\" : \"SE Magnitude\",\n",
    "                \"autorange\" : \"reversed\",\n",
    "                \"mirror\" : \"ticks\",\n",
    "                \"showline\" : True,\n",
    "                \"linecolor\" : '#636363'\n",
    "                    },\n",
    "            yaxis = {\n",
    "                \"title\" : \"PanSTARRS Magnitude\",\n",
    "                \"autorange\" : \"reversed\",\n",
    "                \"mirror\" : \"ticks\",\n",
    "                \"showline\" : True,\n",
    "                \"linecolor\" : '#636363'\n",
    "                    }\n",
    "        )\n",
    "fig = go.Figure(data = data, layout=layout)\n",
    "\n",
    "py.iplot(fig, filename='{}_{}_pan_fit_bad'.format(obj, filter))"
   ]
  },
  {
   "cell_type": "markdown",
   "metadata": {
    "collapsed": true,
    "deletable": true,
    "editable": true
   },
   "source": [
    "## Color Color Plots"
   ]
  },
  {
   "cell_type": "code",
   "execution_count": 111,
   "metadata": {
    "collapsed": false,
    "deletable": true,
    "editable": true
   },
   "outputs": [
    {
     "data": {
      "text/html": [
       "<iframe id=\"igraph\" scrolling=\"no\" style=\"border:none;\" seamless=\"seamless\" src=\"https://plot.ly/~kaimibk/62.embed\" height=\"525px\" width=\"100%\"></iframe>"
      ],
      "text/plain": [
       "<plotly.tools.PlotlyDisplay object>"
      ]
     },
     "execution_count": 111,
     "metadata": {},
     "output_type": "execute_result"
    }
   ],
   "source": [
    "temp_x = rdata - idata\n",
    "temp_y = idata - zdata\n",
    "\n",
    "trace1 = go.Scatter(\n",
    "        x = unumpy.nominal_values(temp_x),\n",
    "        y = unumpy.nominal_values(temp_y),\n",
    "\n",
    "        hoverinfo = \"all\",\n",
    "\n",
    "        marker = {\n",
    "                \"size\" : 10,\n",
    "                #\"color\" : \"blue\",\n",
    "                \"cmax\" : max(e),\n",
    "                \"cmin\" : min(e),\n",
    "                \"color\" : np.linspace(min(e), max(e), len(e)),\n",
    "        \n",
    "                \"colorbar\" : {\n",
    "                    \"title\" : \"ELLIPTICITY\"\n",
    "                    },\n",
    "                \"colorscale\" : \"Viridis\"\n",
    "            },\n",
    "        error_y = {\n",
    "        \"type\" : \"data\",\n",
    "        \"array\" : unumpy.std_devs(temp_y),\n",
    "        \"visible\" : True,\n",
    "        \"color\" : \"#A9A9A9\"\n",
    "          },\n",
    "    \n",
    "        error_x = {\n",
    "                \"type\" : \"data\",\n",
    "                \"array\" : unumpy.std_devs(temp_x),\n",
    "                \"visible\" : True,\n",
    "                \"color\" : \"#A9A9A9\"\n",
    "                  },\n",
    "    \n",
    "        mode = 'markers')\n",
    "\n",
    "data = [trace1]\n",
    "\n",
    "layout = go.Layout(\n",
    "            showlegend=False,\n",
    "            title = \"Color-Color Diagram --- {}\".format(obj),\n",
    "            xaxis = {\n",
    "                \"title\" : \"r - i\",\n",
    "                \"autorange\" : \"reversed\",\n",
    "                \"mirror\" : \"ticks\",\n",
    "                \"showline\" : True,\n",
    "                \"linecolor\" : '#636363'\n",
    "                    },\n",
    "            yaxis = {\n",
    "                \"title\" : \"i - z\",\n",
    "                \"autorange\" : \"reversed\",\n",
    "                \"mirror\" : \"ticks\",\n",
    "                \"showline\" : True,\n",
    "                \"linecolor\" : '#636363'\n",
    "                    }\n",
    "        )\n",
    "\n",
    "fig = go.Figure(data = data, layout=layout)\n",
    "\n",
    "py.iplot(fig, filename='{}_cc'.format(obj))"
   ]
  },
  {
   "cell_type": "markdown",
   "metadata": {
    "collapsed": true,
    "deletable": true,
    "editable": true
   },
   "source": [
    "## Reading in SED"
   ]
  },
  {
   "cell_type": "code",
   "execution_count": 151,
   "metadata": {
    "collapsed": false,
    "deletable": true,
    "editable": true
   },
   "outputs": [],
   "source": [
    "sed_data = np.genfromtxt(main_dir+\"redshift_curves.txt\")"
   ]
  },
  {
   "cell_type": "code",
   "execution_count": 152,
   "metadata": {
    "collapsed": false,
    "deletable": true,
    "editable": true
   },
   "outputs": [],
   "source": [
    "E_sed = sed_data[:,0], sed_data[:,1]\n",
    "Im_sed = sed_data[:,2], sed_data[:,3]\n",
    "Sbc_sed = sed_data[:,4], sed_data[:,5]\n",
    "Scd_sed = sed_data[:,6], sed_data[:,7]"
   ]
  },
  {
   "cell_type": "code",
   "execution_count": 153,
   "metadata": {
    "collapsed": false,
    "deletable": true,
    "editable": true
   },
   "outputs": [
    {
     "data": {
      "text/html": [
       "<iframe id=\"igraph\" scrolling=\"no\" style=\"border:none;\" seamless=\"seamless\" src=\"https://plot.ly/~kaimibk/68.embed\" height=\"525px\" width=\"100%\"></iframe>"
      ],
      "text/plain": [
       "<plotly.tools.PlotlyDisplay object>"
      ]
     },
     "execution_count": 153,
     "metadata": {},
     "output_type": "execute_result"
    }
   ],
   "source": [
    "trace1 = go.Scatter(\n",
    "        x = unumpy.nominal_values(temp_x),\n",
    "        y = unumpy.nominal_values(temp_y),\n",
    "        \n",
    "        name = obj,\n",
    "        hoverinfo = \"all\",\n",
    "\n",
    "        marker = {\n",
    "                \"size\" : 8,\n",
    "                \"cmax\" : max(e),\n",
    "                \"cmin\" : min(e),\n",
    "                \"color\" : np.linspace(min(e), max(e), len(e)),\n",
    "        \n",
    "                \"colorbar\" : {\n",
    "                    \"title\" : \"ELLIPTICITY\"\n",
    "                    },\n",
    "                \"colorscale\" : \"Viridis\"\n",
    "            },\n",
    "    \n",
    "        error_y = {\n",
    "            \"type\" : \"data\",\n",
    "            \"array\" : unumpy.std_devs(temp_y),\n",
    "            \"visible\" : True,\n",
    "            \"color\" : \"#A9A9A9\",\n",
    "            \"opacity\" : 0.6\n",
    "              },\n",
    "    \n",
    "        error_x = {\n",
    "                \"type\" : \"data\",\n",
    "                \"array\" : unumpy.std_devs(temp_x),\n",
    "                \"visible\" : True,\n",
    "                \"color\" : \"#A9A9A9\",\n",
    "                \"opacity\" : 0.3\n",
    "                  },\n",
    "    \n",
    "        mode = 'markers')\n",
    "\n",
    "data = [trace1]\n",
    "\n",
    "k = 0\n",
    "sed_names = [\"E_sed\", \"Im_sed\", \"Sbc_sed\", \"Scd_sed\"]\n",
    "for sed, color in zip([E_sed, Im_sed, Sbc_sed, Scd_sed], \n",
    "                      [\"orange\", \"cyan\", \"red\", \"magenta\"]):\n",
    "    \n",
    "    xdata, ydata = np.vstack(sed)\n",
    "    \n",
    "    trace = go.Scatter(\n",
    "            x = xdata,\n",
    "            y = ydata,\n",
    "            name = sed_names[k],\n",
    "            mode = \"lines\",\n",
    "            line = {\n",
    "                \"color\" : color,\n",
    "                \"width\" : 4\n",
    "            }\n",
    "        )\n",
    "    \n",
    "    data.append(trace)\n",
    "    k +=1\n",
    "        \n",
    "layout = go.Layout(\n",
    "            legend={\n",
    "                \"x\" : 0, \n",
    "                \"y\" : 1},\n",
    "    \n",
    "            title = \"Color-Color Diagram --- {}\".format(obj),\n",
    "            xaxis = {\n",
    "                \"title\" : \"r - i\",\n",
    "                #\"autorange\" : \"reversed\",\n",
    "                \"mirror\" : \"ticks\",\n",
    "                \"showline\" : True,\n",
    "                \"linecolor\" : '#636363',\n",
    "                \"range\" : [-0.75, 1.25]\n",
    "                    },\n",
    "            yaxis = {\n",
    "                \"title\" : \"i - z\",\n",
    "                #\"autorange\" : \"reversed\",\n",
    "                \"mirror\" : \"ticks\",\n",
    "                \"showline\" : True,\n",
    "                \"linecolor\" : '#636363',\n",
    "                \"range\" : [-0.5, 4]\n",
    "                    },\n",
    "            font = {\n",
    "                \"size\" : 14\n",
    "                }\n",
    "        )\n",
    "\n",
    "fig = go.Figure(data = data, layout=layout)\n",
    "\n",
    "py.iplot(fig, filename='{}_cc_sed_zoom'.format(obj))"
   ]
  },
  {
   "cell_type": "markdown",
   "metadata": {
    "deletable": true,
    "editable": true
   },
   "source": [
    "## Using UH88 Quantum Efficiency"
   ]
  },
  {
   "cell_type": "code",
   "execution_count": 126,
   "metadata": {
    "collapsed": true,
    "deletable": true,
    "editable": true
   },
   "outputs": [],
   "source": [
    "SEDS = pd.read_csv(main_dir+\"SEDS.csv\")"
   ]
  },
  {
   "cell_type": "code",
   "execution_count": 137,
   "metadata": {
    "collapsed": false,
    "deletable": true,
    "editable": true
   },
   "outputs": [],
   "source": [
    "SEDS = SEDS.drop(\"Unnamed: 0\", axis=1)"
   ]
  },
  {
   "cell_type": "code",
   "execution_count": 139,
   "metadata": {
    "collapsed": false,
    "deletable": true,
    "editable": true
   },
   "outputs": [
    {
     "data": {
      "text/html": [
       "<div>\n",
       "<table border=\"1\" class=\"dataframe\">\n",
       "  <thead>\n",
       "    <tr style=\"text-align: right;\">\n",
       "      <th></th>\n",
       "      <th>E_iz</th>\n",
       "      <th>E_ri</th>\n",
       "      <th>Im_iz</th>\n",
       "      <th>Im_ri</th>\n",
       "      <th>Sbc_iz</th>\n",
       "      <th>Sbc_ri</th>\n",
       "      <th>Scd_iz</th>\n",
       "      <th>Scd_ri</th>\n",
       "    </tr>\n",
       "  </thead>\n",
       "  <tbody>\n",
       "    <tr>\n",
       "      <th>0</th>\n",
       "      <td>0.171859</td>\n",
       "      <td>0.096272</td>\n",
       "      <td>-0.001338</td>\n",
       "      <td>-0.050767</td>\n",
       "      <td>0.162851</td>\n",
       "      <td>0.081582</td>\n",
       "      <td>-0.035385</td>\n",
       "      <td>-0.068584</td>\n",
       "    </tr>\n",
       "    <tr>\n",
       "      <th>1</th>\n",
       "      <td>0.418825</td>\n",
       "      <td>0.189788</td>\n",
       "      <td>0.259298</td>\n",
       "      <td>0.000185</td>\n",
       "      <td>0.426162</td>\n",
       "      <td>0.132203</td>\n",
       "      <td>0.219910</td>\n",
       "      <td>0.000128</td>\n",
       "    </tr>\n",
       "  </tbody>\n",
       "</table>\n",
       "</div>"
      ],
      "text/plain": [
       "       E_iz      E_ri     Im_iz     Im_ri    Sbc_iz    Sbc_ri    Scd_iz  \\\n",
       "0  0.171859  0.096272 -0.001338 -0.050767  0.162851  0.081582 -0.035385   \n",
       "1  0.418825  0.189788  0.259298  0.000185  0.426162  0.132203  0.219910   \n",
       "\n",
       "     Scd_ri  \n",
       "0 -0.068584  \n",
       "1  0.000128  "
      ]
     },
     "execution_count": 139,
     "metadata": {},
     "output_type": "execute_result"
    }
   ],
   "source": [
    "SEDS.head(2)"
   ]
  },
  {
   "cell_type": "code",
   "execution_count": 140,
   "metadata": {
    "collapsed": true,
    "deletable": true,
    "editable": true
   },
   "outputs": [],
   "source": [
    "E_sed = SEDS[\"E_ri\"], SEDS[\"E_iz\"]\n",
    "Im_sed = SEDS[\"Im_ri\"], SEDS[\"Im_iz\"]\n",
    "Sbc_sed = SEDS[\"Sbc_ri\"], SEDS[\"Sbc_iz\"]\n",
    "Scd_sed = SEDS[\"Scd_ri\"], SEDS[\"Scd_iz\"]"
   ]
  },
  {
   "cell_type": "code",
   "execution_count": 148,
   "metadata": {
    "collapsed": false,
    "deletable": true,
    "editable": true
   },
   "outputs": [
    {
     "data": {
      "text/html": [
       "<iframe id=\"igraph\" scrolling=\"no\" style=\"border:none;\" seamless=\"seamless\" src=\"https://plot.ly/~kaimibk/72.embed\" height=\"525px\" width=\"100%\"></iframe>"
      ],
      "text/plain": [
       "<plotly.tools.PlotlyDisplay object>"
      ]
     },
     "execution_count": 148,
     "metadata": {},
     "output_type": "execute_result"
    }
   ],
   "source": [
    "trace1 = go.Scatter(\n",
    "        x = unumpy.nominal_values(temp_x),\n",
    "        y = unumpy.nominal_values(temp_y),\n",
    "        \n",
    "        name = obj,\n",
    "        hoverinfo = \"all\",\n",
    "\n",
    "        marker = {\n",
    "                \"size\" : 8,\n",
    "                \"cmax\" : max(e),\n",
    "                \"cmin\" : min(e),\n",
    "                \"color\" : np.linspace(min(e), max(e), len(e)),\n",
    "        \n",
    "                \"colorbar\" : {\n",
    "                    \"title\" : \"ELLIPTICITY\"\n",
    "                    },\n",
    "                \"colorscale\" : \"Viridis\"\n",
    "            },\n",
    "    \n",
    "        error_y = {\n",
    "            \"type\" : \"data\",\n",
    "            \"array\" : unumpy.std_devs(temp_y),\n",
    "            \"visible\" : True,\n",
    "            \"color\" : \"#A9A9A9\",\n",
    "            \"opacity\" : 0.6\n",
    "              },\n",
    "    \n",
    "        error_x = {\n",
    "                \"type\" : \"data\",\n",
    "                \"array\" : unumpy.std_devs(temp_x),\n",
    "                \"visible\" : True,\n",
    "                \"color\" : \"#A9A9A9\",\n",
    "                \"opacity\" : 0.3\n",
    "                  },\n",
    "    \n",
    "        mode = 'markers')\n",
    "\n",
    "data = [trace1]\n",
    "\n",
    "k = 0\n",
    "sed_names = [\"E_sed\", \"Im_sed\", \"Sbc_sed\", \"Scd_sed\"]\n",
    "for sed, color in zip([E_sed, Im_sed, Sbc_sed, Scd_sed], \n",
    "                      [\"orange\", \"cyan\", \"red\", \"magenta\"]):\n",
    "    \n",
    "    xdata, ydata = np.vstack(sed)\n",
    "    \n",
    "    trace = go.Scatter(\n",
    "            x = xdata,\n",
    "            y = ydata,\n",
    "            name = sed_names[k],\n",
    "            mode = \"lines\",\n",
    "            line = {\n",
    "                \"color\" : color,\n",
    "                \"width\" : 4\n",
    "            }\n",
    "        )\n",
    "    \n",
    "    data.append(trace)\n",
    "    k +=1\n",
    "        \n",
    "layout = go.Layout(\n",
    "            legend={\n",
    "                \"x\" : 0, \n",
    "                \"y\" : 1},\n",
    "    \n",
    "            title = \"Color-Color Diagram --- {}\".format(obj),\n",
    "            xaxis = {\n",
    "                \"title\" : \"r - i\",\n",
    "                #\"autorange\" : \"reversed\",\n",
    "                \"mirror\" : \"ticks\",\n",
    "                \"showline\" : True,\n",
    "                \"linecolor\" : '#636363',\n",
    "                \"range\" : [-0.75, 1.25]\n",
    "                    },\n",
    "            yaxis = {\n",
    "                \"title\" : \"i - z\",\n",
    "                #\"autorange\" : \"reversed\",\n",
    "                \"mirror\" : \"ticks\",\n",
    "                \"showline\" : True,\n",
    "                \"linecolor\" : '#636363',\n",
    "                \"range\" : [-0.5, 4]\n",
    "                    },\n",
    "            font = {\n",
    "                \"size\" : 14\n",
    "                }\n",
    "        )\n",
    "\n",
    "fig = go.Figure(data = data, layout=layout)\n",
    "\n",
    "py.iplot(fig, filename='{}_cc_sed_QE_zoom'.format(obj))"
   ]
  },
  {
   "cell_type": "code",
   "execution_count": null,
   "metadata": {
    "collapsed": true,
    "deletable": true,
    "editable": true
   },
   "outputs": [],
   "source": []
  }
 ],
 "metadata": {
  "anaconda-cloud": {},
  "kernelspec": {
   "display_name": "Python [default]",
   "language": "python",
   "name": "python2"
  },
  "language_info": {
   "codemirror_mode": {
    "name": "ipython",
    "version": 2
   },
   "file_extension": ".py",
   "mimetype": "text/x-python",
   "name": "python",
   "nbconvert_exporter": "python",
   "pygments_lexer": "ipython2",
   "version": "2.7.12"
  },
  "latex_envs": {
   "LaTeX_envs_menu_present": true,
   "autoclose": true,
   "autocomplete": true,
   "bibliofile": "biblio.bib",
   "cite_by": "apalike",
   "current_citInitial": 1,
   "eqLabelWithNumbers": true,
   "eqNumInitial": 1,
   "hotkeys": {
    "equation": "Ctrl-E",
    "itemize": "Ctrl-I"
   },
   "labels_anchors": false,
   "latex_user_defs": false,
   "report_style_numbering": false,
   "user_envs_cfg": false
  },
  "toc": {
   "nav_menu": {},
   "number_sections": true,
   "sideBar": true,
   "skip_h1_title": true,
   "title_cell": "Table of Contents",
   "title_sidebar": "Contents",
   "toc_cell": true,
   "toc_position": {},
   "toc_section_display": true,
   "toc_window_display": true
  }
 },
 "nbformat": 4,
 "nbformat_minor": 2
}
