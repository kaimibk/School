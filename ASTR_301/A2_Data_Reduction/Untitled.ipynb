{
 "cells": [
  {
   "cell_type": "code",
   "execution_count": 1,
   "metadata": {
    "collapsed": true,
    "nbpresent": {
     "id": "9da47964-0515-4016-8202-e103b1606a41"
    }
   },
   "outputs": [],
   "source": [
    "import numpy as np\n",
    "import pandas as pd\n",
    "import os\n",
    "from astropy.io import fits\n",
    "import ccdproc as cp"
   ]
  },
  {
   "cell_type": "code",
   "execution_count": 2,
   "metadata": {
    "collapsed": true,
    "nbpresent": {
     "id": "e82450da-02e3-447c-964d-2d687b74c0d1"
    }
   },
   "outputs": [],
   "source": [
    "main_dir = \"/Volumes/LaCie/School/ASTR_301/A2/\"\n",
    "data_dir = main_dir+\"data/\"\n",
    "out_dir = main_dir+\"out/\""
   ]
  },
  {
   "cell_type": "markdown",
   "metadata": {},
   "source": [
    "## To-Do"
   ]
  },
  {
   "cell_type": "markdown",
   "metadata": {},
   "source": [
    "1. Median Bias Frame Creator\n",
    "\n",
    "1. Compute the dark current:\n",
    "    \n",
    "    1. stats on overscan region after bias correction\n",
    "    \n",
    "1. Apply overscan corr.\n",
    "\n",
    "1. Dome Flats"
   ]
  },
  {
   "cell_type": "markdown",
   "metadata": {},
   "source": [
    "## Master Table"
   ]
  },
  {
   "cell_type": "code",
   "execution_count": 3,
   "metadata": {
    "collapsed": false
   },
   "outputs": [],
   "source": [
    "df = pd.read_csv(data_dir+'Tek2007Nov05.log', sep=\",\", \n",
    "                header=None, names= [\"Filename\", \"AIRMASS\",\"EXPTIME\", \"Filter\", \"Type\"])"
   ]
  },
  {
   "cell_type": "markdown",
   "metadata": {},
   "source": [
    "## Creating a Master Bias"
   ]
  },
  {
   "cell_type": "code",
   "execution_count": 4,
   "metadata": {
    "collapsed": false,
    "nbpresent": {
     "id": "61475f31-6c84-4d99-91fc-5ea9e6580031"
    }
   },
   "outputs": [],
   "source": [
    "bias_list = (df[\"Filename\"][df[\"EXPTIME\"] == 0])"
   ]
  },
  {
   "cell_type": "code",
   "execution_count": null,
   "metadata": {
    "collapsed": false,
    "nbpresent": {
     "id": "8cf7fccd-b0b7-48ea-a47c-0b4524856b1c"
    }
   },
   "outputs": [],
   "source": [
    "bias_frames = []\n",
    "\n",
    "for image in bias_list:\n",
    "    print(\"Inspecting Image ... %s\")%(image)\n",
    "    \n",
    "    try:\n",
    "        frame = cp.fits_ccddata_reader(data_dir+image+\".gz\", hdu=0, unit=\"adu\")\n",
    "        hdulist = fits.open(data_dir+image+\".gz\") \n",
    "    \n",
    "    except IOError:\n",
    "        frame = cp.fits_ccddata_reader(data_dir+image, hdu=0, unit=\"adu\")\n",
    "        hdulist = fits.open(data_dir+image) \n",
    "   \n",
    "    #header = hdulist[0].header\n",
    "    data = hdulist[0].data\n",
    "        \n",
    "    #frame = cp.subtract_overscan(frame, \n",
    "    #                            fits_section=frame.header[\"BIASSEC\"],\n",
    "    #                            overscan_axis=(0,1),\n",
    "    #                           median=True)\n",
    "    \n",
    "    os_region = data[2049:2080, 1:2068]\n",
    "    \n",
    "    print(\"\\t Median : %s\")%(np.median(os_region))\n",
    "    \n",
    "    bias_frames.append(frame)"
   ]
  },
  {
   "cell_type": "code",
   "execution_count": null,
   "metadata": {
    "collapsed": true
   },
   "outputs": [],
   "source": [
    "master_bias = cp.combine(bias_frames,method=\"median\")\n",
    "cp.fits_ccddata_writer(frame, out_dir+\"master_bias_2.fits\")"
   ]
  },
  {
   "cell_type": "markdown",
   "metadata": {},
   "source": [
    "## Inspecting Bias"
   ]
  },
  {
   "cell_type": "code",
   "execution_count": 17,
   "metadata": {
    "collapsed": false
   },
   "outputs": [
    {
     "name": "stdout",
     "output_type": "stream",
     "text": [
      "Number of bad pixels: 80133\n",
      "Total numer of pixels: 4276624\n",
      "Percentage: 1.87374433665\n"
     ]
    }
   ],
   "source": [
    "bias = fits.open(out_dir+\"master_bias_2.fits\")\n",
    "bias_data = bias[0].data\n",
    "\n",
    "\n",
    "k = 0\n",
    "for row in range(len(bias_data)):\n",
    "    for column in range(len(bias_data)):\n",
    "        if bias_data[row][column] >= 250:\n",
    "            k += 1\n",
    "\n",
    "tot_pix = len(bias_data)**2\n",
    "perc =  (float(k) / float(tot_pix)) * 100.0\n",
    "print(\"Number of bad pixels: %s\")%k\n",
    "print(\"Total numer of pixels: %s\")%tot_pix\n",
    "print(\"Percentage: %s\")%perc"
   ]
  },
  {
   "cell_type": "markdown",
   "metadata": {
    "collapsed": true
   },
   "source": [
    "## Dark Current"
   ]
  },
  {
   "cell_type": "code",
   "execution_count": null,
   "metadata": {
    "collapsed": true
   },
   "outputs": [],
   "source": [
    "    "
   ]
  },
  {
   "cell_type": "markdown",
   "metadata": {},
   "source": []
  },
  {
   "cell_type": "code",
   "execution_count": null,
   "metadata": {
    "collapsed": true
   },
   "outputs": [],
   "source": []
  },
  {
   "cell_type": "code",
   "execution_count": null,
   "metadata": {
    "collapsed": true
   },
   "outputs": [],
   "source": []
  },
  {
   "cell_type": "code",
   "execution_count": null,
   "metadata": {
    "collapsed": true
   },
   "outputs": [],
   "source": []
  },
  {
   "cell_type": "code",
   "execution_count": null,
   "metadata": {
    "collapsed": true
   },
   "outputs": [],
   "source": []
  },
  {
   "cell_type": "code",
   "execution_count": null,
   "metadata": {
    "collapsed": true
   },
   "outputs": [],
   "source": []
  }
 ],
 "metadata": {
  "anaconda-cloud": {},
  "kernelspec": {
   "display_name": "Python [default]",
   "language": "python",
   "name": "python2"
  },
  "language_info": {
   "codemirror_mode": {
    "name": "ipython",
    "version": 2
   },
   "file_extension": ".py",
   "mimetype": "text/x-python",
   "name": "python",
   "nbconvert_exporter": "python",
   "pygments_lexer": "ipython2",
   "version": "2.7.12"
  }
 },
 "nbformat": 4,
 "nbformat_minor": 2
}
