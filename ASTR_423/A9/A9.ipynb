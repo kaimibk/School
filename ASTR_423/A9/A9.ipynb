{
 "cells": [
  {
   "cell_type": "markdown",
   "metadata": {},
   "source": [
    "# Assignment \\#9 : Violence in the Universe\n",
    "\n",
    "Kaimi Kahihikolo\n",
    "\n",
    "Due: 24 April 2019"
   ]
  },
  {
   "cell_type": "code",
   "execution_count": 1,
   "metadata": {},
   "outputs": [],
   "source": [
    "import astropy.units as u\n",
    "import astropy.constants as const\n",
    "import numpy as np"
   ]
  },
  {
   "cell_type": "markdown",
   "metadata": {},
   "source": [
    "___\n",
    "## 1 Core-Collapse Supernovae\n",
    "\n",
    "At the end of its life, a massive star has contracted from its original molecular cloud to become a neutron star with a mass of 1.5 times the solar mass and a radius of 13 km. \n",
    "\n",
    "- (1.1) Calculate the total gravitational energy that has been released in forming the neutron star. \n",
    "\n",
    "- (1.2) Assume that the star had a constant luminosity of 35,000 times the solar luminosity for the 6 million years of its entire life (from zero-age main sequence to final collapse and explosion). \n",
    "\n",
    "- (1.3) Having previously spent all that luminous energy throughout its lifetime, does the exploding star have enough energy left to eject 12 solar masses of stellar material with an expansion velocity of 10,000 km/s? Show your calculations; do not just reply yes or no.\n",
    "___"
   ]
  },
  {
   "cell_type": "markdown",
   "metadata": {},
   "source": [
    "**(1.1)** Recall, the potential energy,\n",
    "\n",
    "$$U = \\frac{GM^2}{R}$$"
   ]
  },
  {
   "cell_type": "code",
   "execution_count": 2,
   "metadata": {},
   "outputs": [
    {
     "name": "stdout",
     "output_type": "stream",
     "text": [
      "\t U = 4.57e+53 erg\n"
     ]
    }
   ],
   "source": [
    "M_N = 1.5 * u.Msun\n",
    "R_N = 13 * u.km\n",
    "\n",
    "U = const.G * M_N**2 / R_N\n",
    "print(f\"\\t U = {U.cgs:.2e}\")"
   ]
  },
  {
   "cell_type": "markdown",
   "metadata": {},
   "source": [
    "**(1.2)** Over the star's lifetime, it release 35,000 $L_\\odot$ over the period of $6\\times 10^6$ years. Thus, the energy it releases:"
   ]
  },
  {
   "cell_type": "code",
   "execution_count": 3,
   "metadata": {},
   "outputs": [
    {
     "name": "stdout",
     "output_type": "stream",
     "text": [
      "\t E_released = 2.54e+52 erg\n"
     ]
    }
   ],
   "source": [
    "L_N = 35000 * const.L_sun\n",
    "T = 6e6 *u.year\n",
    "\n",
    "E_released = (L_N * 6e6 * u.year).cgs\n",
    "print(f\"\\t E_released = {E_released.cgs:.2e}\")"
   ]
  },
  {
   "cell_type": "markdown",
   "metadata": {},
   "source": [
    "**(1.3)** After losing all that luminous energy, the energy required to eject $12 M_\\odot$ is given by, $\\frac{1}{2} m v^2$."
   ]
  },
  {
   "cell_type": "code",
   "execution_count": 4,
   "metadata": {},
   "outputs": [
    {
     "name": "stdout",
     "output_type": "stream",
     "text": [
      "\t E_eject = 1.19e+52 erg\n"
     ]
    }
   ],
   "source": [
    "v = 10e3 *u.km /u.s\n",
    "M_eject = 12 * u.Msun\n",
    "\n",
    "E_eject = 0.5 * M_eject * v**2\n",
    "print(f\"\\t E_eject = {E_eject.cgs:.2e}\")"
   ]
  },
  {
   "cell_type": "markdown",
   "metadata": {},
   "source": [
    "Since the total energy is approximately $4\\times 10^{53}$ [erg], after releasing about $2.5 \\times 10^{52}$ [erg] in luminous energy, there is still sufficient energy to eject the 12 solar masses of material."
   ]
  },
  {
   "cell_type": "markdown",
   "metadata": {},
   "source": [
    "___\n",
    "## (2) Escape Velocities and Fast Rotations\n",
    "\n",
    "- **(2.1)** The calculations we will make here are part of the reasoning that leads to the identification of pulsars as rapidly rotating neutron stars. Calculate the following escape velocities in km/s: \n",
    "    - (a) from the surface of a white dwarf with the same mass as the Sun, but the same radius as the Earth.\n",
    "    - (b) from the surface of a neutron star with 1.5 times the mass of the Sun and a radius of 13 km.\n",
    "\n",
    "- **(2.2)** Consider how fast the Earth rotates. The circumference at the Earth’s equator is 40,000 km, and the rotation takes one day, so our rotation speed at the equator is about 0.5 km/s. OK, now imagine a white dwarf with one solar mass and the size of the Earth. Imagine it spins so fast that it makes 2 rotations per second. Calculate how fast the surface of the white dwarf is moving at its equator, in km/s. Compare this speed with the escape velocity from the surface, which you calculated earlier, and explain what would happen to your fast rotating white dwarf.\n",
    "\n",
    "- **(2.3)** Now repeat your calculation, using the neutron star you considered earlier, but assuming it makes 100 rotations per second. Is the rotation speed at the equator larger than the escape velocity? How fast do you think this neutron star could rotate? In other words, how many rotations per second, maximum? \n",
    "\n",
    "- **(2.4)** Find in the literature what is the shortest known pulsar period, and compare with your result.\n",
    "___"
   ]
  },
  {
   "cell_type": "markdown",
   "metadata": {},
   "source": [
    "**(2.1.a)**: Recall, the escape velocity is given by,\n",
    "$$v_{esc} = \\sqrt{\\frac{2GM}{R}}$$"
   ]
  },
  {
   "cell_type": "code",
   "execution_count": 5,
   "metadata": {},
   "outputs": [
    {
     "name": "stdout",
     "output_type": "stream",
     "text": [
      "\t v_esc = 6.45e+03 km / s\n"
     ]
    }
   ],
   "source": [
    "M = 1 * u.Msun\n",
    "R = 1 * u.R_earth\n",
    "v_esc = np.sqrt(2. * const.G * M / R)\n",
    "print(f\"\\t v_esc = {v_esc.to(u.km / u.s):.2e}\")"
   ]
  },
  {
   "cell_type": "markdown",
   "metadata": {},
   "source": [
    "**(2.1.b)** Similarly, for the neutron star,"
   ]
  },
  {
   "cell_type": "code",
   "execution_count": 6,
   "metadata": {},
   "outputs": [
    {
     "name": "stdout",
     "output_type": "stream",
     "text": [
      "\t v_esc = 1.75e+05 km / s\n"
     ]
    }
   ],
   "source": [
    "v_esc = np.sqrt(2. * const.G * M_N / R_N)\n",
    "print(f\"\\t v_esc = {v_esc.to(u.km / u.s):.2e}\")"
   ]
  },
  {
   "cell_type": "markdown",
   "metadata": {},
   "source": [
    "**(2.2)** Given the Earth's circumference is $4\\times 10^{4}$ [km], and the rotation about the equator is about $0.5$ [km/s]. In the case of a white dwarf, the cirumference would be the same, however, it would spin at $2$ rotations per second. Thus, the rotation at the equator is, $8\\times 10^4$ [km/s]. If we compare that to $v_{esc}$ from (2.1), we see a difference of about 1 magnitude, thus we can conclude the white dwarf would become unstable. And my guess, ultimately destroyed?"
   ]
  },
  {
   "cell_type": "markdown",
   "metadata": {},
   "source": [
    "**(2.3)** Now for the case of the neutron star, we assume spins at 100 rotations per second. With a radius of $13$ [km], this corresponds to a circumference of $81.68$ [km]. Thus, the rotation about the equator is $8.2 \\times 10^3$ [km/s]. We can see this rotation velocity is much smaller than the escape velocity. Therefore, we can conclude that the neutron star would survive&mdash;at least until the rotation speed is less than the escape velocity.\n",
    "\n",
    "**(2.4)** According to [Hessels et. al (2006)](https://arxiv.org/abs/astro-ph/0601337), the fastest known spinning pulsar is _PSR J1748-2446ad_. This object rotates at about 716 times per second, which would have a corresponding rotation velocity about the equator of $\\approx 7 \\times 10^4$ [km/s]."
   ]
  },
  {
   "cell_type": "markdown",
   "metadata": {},
   "source": [
    "___\n",
    "## (3) A White Dwarf Supernova\n",
    "Given special conditions, four carbon nuclei (each made of 6 protons and 6 neutrons) can be quickly fused in succesive nuclear reactions, all the way to iron-peak elements. The mass of the four carbon nuclei involved in this kind of process is 8 ×10^−23 grams. The energy generated by the chain of reactions is about 9 ×10−5 ergs.\n",
    "\n",
    "- **(3.1)** How can this happen? Consider a white dwarf in a binary system. This white dwarf contains about one solar mass of carbon. A few moments ago it has just received enough mass from its companion to become more massive than the Chandrasekhar limit, which is 1.4 times the solar mass. So the white dwarf collapses and heats until the core temperature becomes high enough to ignite all the carbon nuclei simultaneously. Calculate the energy generated in the explosion. This is called a “carbon detonation” supernova, or SN Ia. Presumably nothing remains of the poor white dwarf, except for a rapidly expanding shell of gas, which later interacts with the surrounding interstellar medium..\n",
    "\n",
    "- **(3.2)** Let us assume that 1% of this SN Ia energy becomes radiative energy (light). How many days can this supernova shine with an average luminosity equal to 10^10 suns?\n",
    "___"
   ]
  },
  {
   "cell_type": "markdown",
   "metadata": {},
   "source": [
    "**(3.1)** When the white dwarf recieves mass from the companion star, it surpasses the Chandrasekhar limit, about $1.4 M_\\odot$. Every reaction invloves $8\\times 10^{-23}$ [g] of C and releases about $9\n",
    "\\times 10^{-5}$ [ergs]. Thus, the energy generated is,"
   ]
  },
  {
   "cell_type": "code",
   "execution_count": 7,
   "metadata": {},
   "outputs": [
    {
     "name": "stdout",
     "output_type": "stream",
     "text": [
      "\t E_exp = 2.24e+51 erg\n"
     ]
    }
   ],
   "source": [
    "E_exp = (((1 *u.M_sun) / (8e-23 *u.g) * (9e-5 *u.erg)))\n",
    "print(f\"\\t E_exp = {E_exp.cgs:.2e}\")"
   ]
  },
  {
   "cell_type": "markdown",
   "metadata": {},
   "source": [
    "**(3.2)** Assuming 1% of this energy becomes light, $1 \\% \\Rightarrow 10^{42}$ [J]. Thus, to shine at $10^{10}$ suns, the supernova can shine for,"
   ]
  },
  {
   "cell_type": "code",
   "execution_count": 8,
   "metadata": {},
   "outputs": [
    {
     "name": "stdout",
     "output_type": "stream",
     "text": [
      "\t Duration = 6.76 d\n"
     ]
    }
   ],
   "source": [
    "E_light = 0.01 * E_exp.to(u.J)\n",
    "duration = (E_light / (1e10 * u.Lsun)).decompose()\n",
    "\n",
    "print(f\"\\t Duration = {duration.to(u.d):.2f}\")"
   ]
  }
 ],
 "metadata": {
  "kernelspec": {
   "display_name": "Python [conda env:UHenv]",
   "language": "python",
   "name": "conda-env-UHenv-py"
  },
  "language_info": {
   "codemirror_mode": {
    "name": "ipython",
    "version": 3
   },
   "file_extension": ".py",
   "mimetype": "text/x-python",
   "name": "python",
   "nbconvert_exporter": "python",
   "pygments_lexer": "ipython3",
   "version": "3.6.7"
  }
 },
 "nbformat": 4,
 "nbformat_minor": 2
}
