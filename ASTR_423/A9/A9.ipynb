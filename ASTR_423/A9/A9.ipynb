{
 "cells": [
  {
   "cell_type": "markdown",
   "metadata": {},
   "source": [
    "# Assignment \\#8 : The Astrophysical Distance Ladder\n",
    "\n",
    "Kaimi Kahihikolo\n",
    "\n",
    "Due: 23 April 2019"
   ]
  },
  {
   "cell_type": "code",
   "execution_count": 1,
   "metadata": {},
   "outputs": [],
   "source": [
    "import astropy.units as u\n",
    "import astropy.constants as const\n",
    "import numpy as np"
   ]
  },
  {
   "cell_type": "markdown",
   "metadata": {},
   "source": [
    "___\n",
    "## 1 Core-Collapse Supernovae\n",
    "\n",
    "At the end of its life, a massive star has contracted from its original molecular cloud to become a neutron star with a mass of 1.5 times the solar mass and a radius of 13 km. \n",
    "\n",
    "- (1.1) Calculate the total gravitational energy that has been released in forming the neutron star. \n",
    "\n",
    "- (1.2) Assume that the star had a constant luminosity of 35,000 times the solar luminosity for the 6 million years of its entire life (from zero-age main sequence to final collapse and explosion). \n",
    "\n",
    "- (1.3) Having previously spent all that luminous energy throughout its lifetime, does the exploding star have enough energy left to eject 12 solar masses of stellar material with an expansion velocity of 10,000 km/s? Show your calculations; do not just reply yes or no."
   ]
  },
  {
   "cell_type": "markdown",
   "metadata": {},
   "source": [
    "**(1.1)** Recall, the potential energy,\n",
    "\n",
    "$$U = \\frac{GM^2}{R}$$"
   ]
  },
  {
   "cell_type": "code",
   "execution_count": 44,
   "metadata": {},
   "outputs": [
    {
     "name": "stdout",
     "output_type": "stream",
     "text": [
      "\t U = 4.57e+53 erg\n"
     ]
    }
   ],
   "source": [
    "M_N = 1.5 * u.Msun\n",
    "R_N = 13 * u.km\n",
    "\n",
    "U = const.G * M_N**2 / R_N\n",
    "print(f\"\\t U = {U.cgs:.2e}\")"
   ]
  },
  {
   "cell_type": "markdown",
   "metadata": {},
   "source": [
    "**(1.2)** Over the star's lifetime, it release 35,000 $L_\\odot$ over the period of $6\\times 10^6$ years. Thus, the energy it releases:"
   ]
  },
  {
   "cell_type": "code",
   "execution_count": 45,
   "metadata": {},
   "outputs": [
    {
     "name": "stdout",
     "output_type": "stream",
     "text": [
      "\t E_released = 2.54e+52 erg\n"
     ]
    }
   ],
   "source": [
    "L_N = 35000 * const.L_sun\n",
    "T = 6e6 *u.year\n",
    "\n",
    "E_released = (L_N * 6e6 * u.year).cgs\n",
    "print(f\"\\t E_released = {E_released.cgs:.2e}\")"
   ]
  },
  {
   "cell_type": "markdown",
   "metadata": {},
   "source": [
    "**(1.2)** After losing all that luminous energy, the energy required to eject $12 M_\\odot$ is given by, $\\frac{1}{2} m v^2$."
   ]
  },
  {
   "cell_type": "code",
   "execution_count": 43,
   "metadata": {},
   "outputs": [
    {
     "name": "stdout",
     "output_type": "stream",
     "text": [
      "\t E_eject = 1.19e+52 erg\n"
     ]
    }
   ],
   "source": [
    "v = 10e3 *u.km /u.s\n",
    "M_eject = 12 * u.Msun\n",
    "\n",
    "E_eject = 0.5 * M_eject * v**2\n",
    "print(f\"\\t E_eject = {E_eject.cgs:.2e}\")"
   ]
  },
  {
   "cell_type": "markdown",
   "metadata": {},
   "source": [
    "Since the total energy is approximately $4\\times 10^{53}$ [erg], after releasing about $2.5 \\times 10^{52}$ [erg] in luminous energy, there is still sufficient energy to eject the 12 solar masses of material."
   ]
  },
  {
   "cell_type": "markdown",
   "metadata": {},
   "source": [
    "___\n",
    "## (2) Escape Velocities and Fast Rotations\n",
    "\n",
    "- **(2.1)** The calculations we will make here are part of the reasoning that leads to the identification of pulsars as rapidly rotating neutron stars. Calculate the following escape velocities in km/s: \n",
    "    - (a) from the surface of a white dwarf with the same mass as the Sun, but the same radius as the Earth.\n",
    "    - (b) from the surface of a neutron star with 1.5 times the mass of the Sun and a radius of 13 km.\n",
    "\n",
    "- **(2.2)** Consider how fast the Earth rotates. The circumference at the Earth’s equator is 40,000 km, and the rotation takes one day, so our rotation speed at the equator is about 0.5 km/s. OK, now imagine a white dwarf with one solar mass and the size of the Earth. Imagine it spins so fast that it makes 2 rotations per second. Calculate how fast the surface of the white dwarf is moving at its equator, in km/s. Compare this speed with the escape velocity from the surface, which you calculated earlier, and explain what would happen to your fast rotating white dwarf.\n",
    "\n",
    "- **(2.3)** Now repeat your calculation, using the neutron star you considered earlier, but assuming it makes 100 rotations per second. Is the rotation speed at the equator larger than the escape velocity? How fast do you think this neutron star could rotate? In other words, how many rotations per second, maximum? Find in the literature what is the shortest known pulsar period, and compare with your result."
   ]
  },
  {
   "cell_type": "code",
   "execution_count": null,
   "metadata": {},
   "outputs": [],
   "source": []
  },
  {
   "cell_type": "code",
   "execution_count": null,
   "metadata": {},
   "outputs": [],
   "source": []
  }
 ],
 "metadata": {
  "kernelspec": {
   "display_name": "Python 3",
   "language": "python",
   "name": "python3"
  },
  "language_info": {
   "codemirror_mode": {
    "name": "ipython",
    "version": 3
   },
   "file_extension": ".py",
   "mimetype": "text/x-python",
   "name": "python",
   "nbconvert_exporter": "python",
   "pygments_lexer": "ipython3",
   "version": "3.6.7"
  }
 },
 "nbformat": 4,
 "nbformat_minor": 2
}
