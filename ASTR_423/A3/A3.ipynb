{
 "cells": [
  {
   "cell_type": "markdown",
   "metadata": {},
   "source": [
    "# Assignment \\#3 : Binary Systems\n",
    "\n",
    "Kaimi Kahihikolo\n",
    "\n",
    "Due: 11 February 2019"
   ]
  },
  {
   "cell_type": "code",
   "execution_count": 81,
   "metadata": {},
   "outputs": [],
   "source": [
    "import numpy as np\n",
    "import astropy.units as u\n",
    "import astropy.constants as const"
   ]
  },
  {
   "cell_type": "code",
   "execution_count": 105,
   "metadata": {},
   "outputs": [],
   "source": [
    "from IPython.display import Math, display\n",
    "\n",
    "def view_math(math):\n",
    "    \"\"\"\n",
    "    Function to render LaTeX expressions\n",
    "    \"\"\"\n",
    "    display(Math(math))"
   ]
  },
  {
   "cell_type": "markdown",
   "metadata": {},
   "source": [
    "___\n",
    "## (1) An Eclipsing Binary in the LMC\n",
    "\n",
    "Data taken from Pietrzynski et al. 2009, ApJ, 697, 862. We will assume that the orbits are circular, which is OK, because the eccentricity is small. We also assume that the orbital inclination is 90 degrees, which again is close to the truth."
   ]
  },
  {
   "cell_type": "markdown",
   "metadata": {},
   "source": [
    "___\n",
    "## (1.1) Orbital size, sum of stellar masses\n",
    "\n",
    "The orbital period is 214.37 days. The semiamplitudes K are 32.65 and 33.67 km/s. **Calculate the orbital size (a1 + a2).** Recall, \n",
    "$$\\begin{align} Pv_1 &= 2\\pi a_1 \\\\  Pv_2 &= 2\\pi a_2 \\end{align}$$"
   ]
  },
  {
   "cell_type": "code",
   "execution_count": 53,
   "metadata": {},
   "outputs": [],
   "source": [
    "P = 214.37 * u.day\n",
    "K1 = 32.65 * u.km / u.s\n",
    "K2 = 33.67 * u.km / u.s"
   ]
  },
  {
   "cell_type": "code",
   "execution_count": 169,
   "metadata": {},
   "outputs": [
    {
     "data": {
      "text/latex": [
       "$$a_1 + a_2 = 1.307 AU$$"
      ],
      "text/plain": [
       "<IPython.core.display.Math object>"
      ]
     },
     "metadata": {},
     "output_type": "display_data"
    }
   ],
   "source": [
    "a1 = ((P * K1)/(2*np.pi)).to('m')\n",
    "a2 = ((P * K2)/(2*np.pi)).to('m')\n",
    "a = a1 + a2\n",
    "\n",
    "view_math(f\"a_1 + a_2 = {a.to('AU').round(3)}\")"
   ]
  },
  {
   "cell_type": "markdown",
   "metadata": {},
   "source": [
    "Use this result to calculate the sum of the stellar masses. Recall,\n",
    "\n",
    "$$P = \\frac{2\\pi}{\\Omega}$$\n",
    "\n",
    "where,\n",
    "\n",
    "$$\\Omega = \\sqrt{\\frac{G(M_1 + M_2)}{(a_1 + a_2)^3}}$$\n",
    "\n",
    "Therefore, by solving for $(M_1 + M_2)$, we get,\n",
    "\n",
    "$$M_1 + M_2 = \\frac{4\\pi^2 (a_1+a_2)^3}{G P^2}$$"
   ]
  },
  {
   "cell_type": "code",
   "execution_count": 163,
   "metadata": {},
   "outputs": [
    {
     "data": {
      "text/latex": [
       "$$\t M_1 + M_2 = 1.2883682882482724e+31 kg$$"
      ],
      "text/plain": [
       "<IPython.core.display.Math object>"
      ]
     },
     "metadata": {},
     "output_type": "display_data"
    },
    {
     "name": "stdout",
     "output_type": "stream",
     "text": [
      "\t Which is about 6.479 times more massive than the Sun.\n",
      "\t (I am just checking if the number looks reasonable)\n"
     ]
    }
   ],
   "source": [
    "M = (4.*np.pi**2*(a)**3)/(const.G*P**2).decompose()\n",
    "\n",
    "view_math(f\"\\t M_1 + M_2 = {M.to('kg')}\")\n",
    "\n",
    "print(f\"\\t Which is about {(M/const.M_sun).round(3)} times more massive than the Sun.\")\n",
    "\n",
    "print(\"\\t (I am just checking if the number looks reasonable)\")"
   ]
  },
  {
   "cell_type": "markdown",
   "metadata": {},
   "source": [
    "___\n",
    "## (1.2) Mass Ratio and Individual Masses\n",
    "\n",
    "Calculate the mass ratio from the ratio of the semiamplitudes, and calculate the individual masses.\n",
    "\n",
    "Recall,\n",
    "\n",
    "$$\\frac{v_2}{v_1} = \\frac{M_1}{M_2}$$"
   ]
  },
  {
   "cell_type": "code",
   "execution_count": 97,
   "metadata": {},
   "outputs": [
    {
     "data": {
      "text/latex": [
       "$$\\frac{M_1}{M_2} = 1.031$$"
      ],
      "text/plain": [
       "<IPython.core.display.Math object>"
      ]
     },
     "metadata": {},
     "output_type": "display_data"
    }
   ],
   "source": [
    "mass_ratio = K2/K1\n",
    "\n",
    "view_math(r\"\\frac{M_1}{M_2} = \"+f\"{mass_ratio.round(3)}\")"
   ]
  },
  {
   "cell_type": "markdown",
   "metadata": {},
   "source": [
    "Recall, the individual masses can be computed by noticing:\n",
    "\n",
    "$$\\begin{align} M_1 &= \\frac{M\\cdot(a - a_1)}{a} \\\\ M_2 &= \\frac{M\\cdot(a - a_2)}{a}\\end{align}$$"
   ]
  },
  {
   "cell_type": "code",
   "execution_count": 167,
   "metadata": {},
   "outputs": [
    {
     "data": {
      "text/latex": [
       "$$M_1 = 3.29 solMass$$"
      ],
      "text/plain": [
       "<IPython.core.display.Math object>"
      ]
     },
     "metadata": {},
     "output_type": "display_data"
    },
    {
     "data": {
      "text/latex": [
       "$$M_2 = 3.19 solMass$$"
      ],
      "text/plain": [
       "<IPython.core.display.Math object>"
      ]
     },
     "metadata": {},
     "output_type": "display_data"
    }
   ],
   "source": [
    "M1 = M*(a - a1)/a\n",
    "view_math(f\"M_1 = {M1.to('M_sun').round(2)}\")\n",
    "\n",
    "M2 = M*(a - a2)/a\n",
    "view_math(f\"M_2 = {M2.to('M_sun').round(2)}\")"
   ]
  },
  {
   "cell_type": "markdown",
   "metadata": {},
   "source": [
    "___\n",
    "## (1.3) Angular Sizes and Distances to the LMC\n",
    "\n",
    "The values of the apparent magnitude K (do not confuse with the semiamplitude K) are 14.895 and 15.446 for the two binary components. The values of the colors V-K are 1.843 and 1.749. The equation for the Barnes-Evans relation is\n",
    "\n",
    "$$K + 5\\log{\\phi} = 2.76 + 0.252(V-K)$$\n",
    "\n",
    "**Calculate the angular sizes.**"
   ]
  },
  {
   "cell_type": "code",
   "execution_count": 76,
   "metadata": {},
   "outputs": [],
   "source": [
    "Kmag_1 = 14.895\n",
    "Kmag_2 = 15.446\n",
    "\n",
    "V_K_1 = 1.843\n",
    "V_K_2 = 1.749"
   ]
  },
  {
   "cell_type": "code",
   "execution_count": 153,
   "metadata": {},
   "outputs": [
    {
     "data": {
      "text/latex": [
       "$$\\phi_1 = 0.0046 mas$$"
      ],
      "text/plain": [
       "<IPython.core.display.Math object>"
      ]
     },
     "metadata": {},
     "output_type": "display_data"
    },
    {
     "data": {
      "text/latex": [
       "$$\\phi_2 = 0.0036 mas$$"
      ],
      "text/plain": [
       "<IPython.core.display.Math object>"
      ]
     },
     "metadata": {},
     "output_type": "display_data"
    }
   ],
   "source": [
    "phi_1 = 10**((690. - 250.* Kmag_1 + 63. * V_K_1)/1250.) * u.mas\n",
    "\n",
    "phi_2 = 10**((690. - 250.* Kmag_2 + 63. * V_K_2)/1250.) * u.mas\n",
    "\n",
    "view_math(f'\\phi_1 = {phi_1.round(4)}')\n",
    "view_math(f'\\phi_2 = {phi_2.round(4)}')"
   ]
  },
  {
   "cell_type": "markdown",
   "metadata": {},
   "source": [
    "The analysis of the light curve has provided the physical radii of the two stars, $26.06$ and $19.76$ solar radii. **Calculate the distances to both stars.**"
   ]
  },
  {
   "cell_type": "code",
   "execution_count": 157,
   "metadata": {},
   "outputs": [
    {
     "data": {
      "text/latex": [
       "$$d_1 = 52.314 kpc$$"
      ],
      "text/plain": [
       "<IPython.core.display.Math object>"
      ]
     },
     "metadata": {},
     "output_type": "display_data"
    },
    {
     "data": {
      "text/latex": [
       "$$d_2 = 51.685 kpc$$"
      ],
      "text/plain": [
       "<IPython.core.display.Math object>"
      ]
     },
     "metadata": {},
     "output_type": "display_data"
    }
   ],
   "source": [
    "d1 = (26.06 * u.Rsun).to('kpc') / np.tan((phi_1/2.0).to('rad'))\n",
    "\n",
    "d2 = (19.76 * u.Rsun).to('kpc') / np.tan((phi_2/2.0).to('rad'))\n",
    "\n",
    "view_math(f'd_1 = {d1.round(3)}')\n",
    "view_math(f'd_2 = {d2.round(3)}')"
   ]
  },
  {
   "cell_type": "markdown",
   "metadata": {},
   "source": [
    "The actual distance to the LMC is 49.97 ± 0.19 (statistical) ± 1.11 (systematic) kiloparsecs (Pietrzynski et al. 2009, ApJ, 697, 862)."
   ]
  },
  {
   "cell_type": "code",
   "execution_count": 177,
   "metadata": {},
   "outputs": [
    {
     "data": {
      "text/latex": [
       "$$Zscore = 1.56 \\sigma$$"
      ],
      "text/plain": [
       "<IPython.core.display.Math object>"
      ]
     },
     "metadata": {},
     "output_type": "display_data"
    }
   ],
   "source": [
    "d_true = [49.97, 0.19+1.11]\n",
    "\n",
    "mean_distance = np.mean([d1.value, d2.value])\n",
    "\n",
    "view_math(f\"Zscore = {((mean_distance - d_true[0])/d_true[1]).round(2)} \\sigma\")"
   ]
  },
  {
   "cell_type": "markdown",
   "metadata": {},
   "source": [
    "___\n",
    "## (2) Elliptical Orbits\n",
    "\n",
    "Assume the following parameters for an elliptical orbit: orbital eccentricity 0.7, and radial velocity semiamplitude K = 50 km/s. Define a set of values for the true anomaly (from 0 to 355 degrees, incrementing by 5 degrees). A similar set of values can be used for the longitude of the periastron, ω, but with a larger increment of 20 degrees. \n",
    "\n",
    "Write a computer program that will calculate and plot the radial velocity curve as a function of orbital phase for any given value of ω. Build the family of radial velocity curves for all the values of ω in the set you have defined. Try to make small plots, so that several curves can be shown in one page."
   ]
  },
  {
   "cell_type": "code",
   "execution_count": 189,
   "metadata": {},
   "outputs": [],
   "source": [
    "e = 0.7\n",
    "K = 50 * (u.km / u.s)\n",
    "\n",
    "true_anomaly = (np.arange(0, 360, 5) * u.deg).to('rad')\n",
    "ω = (np.arange(0, 360, 20) * u.deg).to('rad')"
   ]
  },
  {
   "cell_type": "markdown",
   "metadata": {},
   "source": [
    "$$\\tan{\\frac{\\theta}{2}} = \\sqrt{\\frac{1+e}{1-e}} \\cdot \\tan{\\frac{E}{2}}$$"
   ]
  },
  {
   "cell_type": "code",
   "execution_count": 190,
   "metadata": {},
   "outputs": [],
   "source": [
    "tan_E_2 = np.tan(true_anomaly/2.0) / np.sqrt((1+e)/(1-e))"
   ]
  },
  {
   "cell_type": "markdown",
   "metadata": {},
   "source": [
    "Recall the mean anomally, M, can be computed using\n",
    "\n",
    "$$M=E-e\\sin{E}$$"
   ]
  },
  {
   "cell_type": "code",
   "execution_count": 213,
   "metadata": {},
   "outputs": [],
   "source": [
    "E = 2.0*np.arctan(tan_E_2)\n",
    "\n",
    "M = E.value - e*np.sin(E.value)"
   ]
  },
  {
   "cell_type": "code",
   "execution_count": null,
   "metadata": {},
   "outputs": [],
   "source": []
  }
 ],
 "metadata": {
  "kernelspec": {
   "display_name": "Python [conda env:UHenv]",
   "language": "python",
   "name": "conda-env-UHenv-py"
  },
  "language_info": {
   "codemirror_mode": {
    "name": "ipython",
    "version": 3
   },
   "file_extension": ".py",
   "mimetype": "text/x-python",
   "name": "python",
   "nbconvert_exporter": "python",
   "pygments_lexer": "ipython3",
   "version": "3.6.1"
  }
 },
 "nbformat": 4,
 "nbformat_minor": 2
}
