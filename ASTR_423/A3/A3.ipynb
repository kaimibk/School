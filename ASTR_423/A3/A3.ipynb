{
 "cells": [
  {
   "cell_type": "markdown",
   "metadata": {},
   "source": [
    "# Assignment \\#3 : Binary Systems\n",
    "\n",
    "Kaimi Kahihikolo\n",
    "\n",
    "Due: 11 February 2019"
   ]
  },
  {
   "cell_type": "code",
   "execution_count": 2,
   "metadata": {},
   "outputs": [],
   "source": [
    "import numpy as np\n",
    "import astropy.units as u\n",
    "import astropy.constants as const"
   ]
  },
  {
   "cell_type": "markdown",
   "metadata": {},
   "source": [
    "___\n",
    "## (1) An Eclipsing Binary in the LMC\n",
    "\n",
    "Data taken from Pietrzynski et al. 2009, ApJ, 697, 862. We will assume that the orbits are circular, which is OK, because the eccentricity is small. We also assume that the orbital inclination is 90 degrees, which again is close to the truth."
   ]
  },
  {
   "cell_type": "markdown",
   "metadata": {},
   "source": [
    "___\n",
    "## (1.1) Orbital size, sum of stellar masses\n",
    "\n",
    "The orbital period is 214.37 days. The semiamplitudes K are 32.65 and 33.67 km/s. **Calculate the orbital size (a1 + a2).** Recall, \n",
    "$$\\begin{align} Pv_1 &= 2\\pi a_1 \\\\  Pv_2 &= 2\\pi a_2 \\end{align}$$"
   ]
  },
  {
   "cell_type": "code",
   "execution_count": 53,
   "metadata": {},
   "outputs": [],
   "source": [
    "P = 214.37 *u.day\n",
    "K1 = 32.65 * u.km / u.s\n",
    "K2 = 33.67 * u.km / u.s"
   ]
  },
  {
   "cell_type": "code",
   "execution_count": 75,
   "metadata": {},
   "outputs": [
    {
     "name": "stdout",
     "output_type": "stream",
     "text": [
      "\t a1 + a2 = 1.31 AU\n"
     ]
    }
   ],
   "source": [
    "a1 = ((P * K1)/(2*np.pi)).to('m')\n",
    "a2 = ((P * K2)/(2*np.pi)).to('m')\n",
    "a = a1 + a2\n",
    "\n",
    "print(f\"\\t a1 + a2 = {a.to('AU').round(2)}\")"
   ]
  },
  {
   "cell_type": "markdown",
   "metadata": {},
   "source": [
    "Use this result to calculate the sum of the stellar masses. Recall,\n",
    "\n",
    "$$P = \\frac{2\\pi}{\\Omega}$$\n",
    "\n",
    "where,\n",
    "\n",
    "$$\\Omega = \\sqrt{\\frac{G(M_1 + M_2)}{(a_1 + a_2)^3}}$$\n",
    "\n",
    "Therefore, by solving for $(M_1 + M_2)$, we get,\n",
    "\n",
    "$$M_1 + M_2 = \\frac{4\\pi^2 (a_1+a_2)^3}{G P^2}$$"
   ]
  },
  {
   "cell_type": "code",
   "execution_count": 55,
   "metadata": {},
   "outputs": [
    {
     "name": "stdout",
     "output_type": "stream",
     "text": [
      "\t M1 + M2 = 1.2883682882482724e+31 kg\n",
      "\t Which is about 6.48 times more massive than the Sun.\n",
      "(I am just checking if the number looks reasonable)\n"
     ]
    }
   ],
   "source": [
    "M = (4.*np.pi**2*(a)**3)/(const.G*P**2).decompose()\n",
    "\n",
    "print(f\"\\t M1 + M2 = {M}\")\n",
    "\n",
    "print(f\"\\t Which is about {(M/const.M_sun).round(2)} times more massive than the Sun.\")\n",
    "print(\"(I am just checking if the number looks reasonable)\")"
   ]
  },
  {
   "cell_type": "markdown",
   "metadata": {},
   "source": [
    "___\n",
    "## (1.2) Mass Ratio and Individual Masses\n",
    "\n",
    "Calculate the mass ratio from the ratio of the semiamplitudes, and calculate the individual masses.\n",
    "\n",
    "Recall,\n",
    "\n",
    "$$\\frac{v_2}{v_1} = \\frac{M_1}{M_2}$$"
   ]
  },
  {
   "cell_type": "code",
   "execution_count": 56,
   "metadata": {},
   "outputs": [
    {
     "name": "stdout",
     "output_type": "stream",
     "text": [
      "M1 / M2 = 1.0312404287901993\n"
     ]
    }
   ],
   "source": [
    "mass_ratio = K2/K1\n",
    "\n",
    "print(f\"M1 / M2 = {mass_ratio}\")"
   ]
  },
  {
   "cell_type": "markdown",
   "metadata": {},
   "source": [
    "Recall, the individual masses can be computed by noticing:\n",
    "\n",
    "$$\\begin{align} M_1 &= \\frac{M\\cdot(a - a_1)}{a} \\\\ M_2 &= \\frac{M\\cdot(a - a_2)}{a}\\end{align}$$"
   ]
  },
  {
   "cell_type": "code",
   "execution_count": 74,
   "metadata": {},
   "outputs": [
    {
     "name": "stdout",
     "output_type": "stream",
     "text": [
      "\t M1 = 3.29 solMass\n",
      "\t M2 = 3.19 solMass\n"
     ]
    }
   ],
   "source": [
    "M1 = M*(a - a1)/a\n",
    "print(f\"\\t M1 = {M1.to('M_sun').round(2)}\")\n",
    "\n",
    "M2 = M*(a - a2)/a\n",
    "print(f\"\\t M2 = {M2.to('M_sun').round(2)}\")"
   ]
  },
  {
   "cell_type": "markdown",
   "metadata": {},
   "source": [
    "___\n",
    "## (1.3) Angular Sizes and Distances to the LMC\n",
    "\n",
    "The values of the apparent magnitude K (do not confuse with the semiamplitude K) are 14.895 and 15.446 for the two binary components. The values of the colors V-K are 1.843 and 1.749. The equation for the Barnes-Evans relation is\n",
    "\n",
    "$$K + 5\\log{\\phi} = 2.76 + 0.252(V-K)$$\n",
    "\n",
    "Calculate the angular sizes. The analysis of the light curve has provided the physical radii of the two stars, $26.06$ and $19.76$ solar radii. Calculate the distances to both stars."
   ]
  },
  {
   "cell_type": "markdown",
   "metadata": {},
   "source": [
    "## (2) Elliptical Orbits"
   ]
  },
  {
   "cell_type": "code",
   "execution_count": null,
   "metadata": {},
   "outputs": [],
   "source": []
  }
 ],
 "metadata": {
  "kernelspec": {
   "display_name": "Python [conda env:UHenv]",
   "language": "python",
   "name": "conda-env-UHenv-py"
  },
  "language_info": {
   "codemirror_mode": {
    "name": "ipython",
    "version": 3
   },
   "file_extension": ".py",
   "mimetype": "text/x-python",
   "name": "python",
   "nbconvert_exporter": "python",
   "pygments_lexer": "ipython3",
   "version": "3.6.1"
  }
 },
 "nbformat": 4,
 "nbformat_minor": 2
}
