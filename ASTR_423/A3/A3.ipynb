{
 "cells": [
  {
   "cell_type": "markdown",
   "metadata": {},
   "source": [
    "# Assignment \\#3 : Binary Systems\n",
    "\n",
    "Kaimi Kahihikolo\n",
    "\n",
    "Due: 11 February 2019"
   ]
  },
  {
   "cell_type": "code",
   "execution_count": 1,
   "metadata": {},
   "outputs": [],
   "source": [
    "import numpy as np\n",
    "import astropy.units as u\n",
    "import astropy.constants as const"
   ]
  },
  {
   "cell_type": "markdown",
   "metadata": {},
   "source": [
    "___\n",
    "## (1) An Eclipsing Binary in the LMC\n",
    "\n",
    "Data taken from Pietrzynski et al. 2009, ApJ, 697, 862. We will assume that the orbits are circular, which is OK, because the eccentricity is small. We also assume that the orbital inclination is 90 degrees, which again is close to the truth."
   ]
  },
  {
   "cell_type": "markdown",
   "metadata": {},
   "source": [
    "___\n",
    "## (1.1) Orbital size, sum of stellar masses\n",
    "\n",
    "The orbital period is 214.37 days. The semiamplitudes K are 32.65 and 33.67\n",
    "km/s. Calculate the orbital size (a1 + a2). Use this result to calculate the\n",
    "sum of the stellar masses."
   ]
  },
  {
   "cell_type": "code",
   "execution_count": 5,
   "metadata": {},
   "outputs": [],
   "source": [
    "P = 214.37 *u.day\n",
    "K1 = 32.65 * u.km / u.s\n",
    "K2 = 33.67 * u.km / u.s"
   ]
  },
  {
   "cell_type": "code",
   "execution_count": null,
   "metadata": {},
   "outputs": [],
   "source": []
  }
 ],
 "metadata": {
  "kernelspec": {
   "display_name": "Python [conda env:UHenv]",
   "language": "python",
   "name": "conda-env-UHenv-py"
  },
  "language_info": {
   "codemirror_mode": {
    "name": "ipython",
    "version": 3
   },
   "file_extension": ".py",
   "mimetype": "text/x-python",
   "name": "python",
   "nbconvert_exporter": "python",
   "pygments_lexer": "ipython3",
   "version": "3.6.1"
  }
 },
 "nbformat": 4,
 "nbformat_minor": 2
}
