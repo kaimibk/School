{
 "cells": [
  {
   "cell_type": "markdown",
   "metadata": {},
   "source": [
    "# Assignment \\#4 : Line Broadening\n",
    "\n",
    "Kaimi Kahihikolo\n",
    "\n",
    "Due: 6 March 2019"
   ]
  },
  {
   "cell_type": "code",
   "execution_count": 1,
   "metadata": {},
   "outputs": [],
   "source": [
    "import astropy.constants as const\n",
    "import astropy.units as u"
   ]
  },
  {
   "cell_type": "markdown",
   "metadata": {},
   "source": [
    "___"
   ]
  },
  {
   "cell_type": "markdown",
   "metadata": {},
   "source": [
    "## (1) Initial Phase of Protostar Evolution\n",
    "\n",
    "Assume a protostar of 1 solar mass, made of pure H. Initially, the gravitational energy of the collapse is used to dissociate and ionize the molecular gas. Estimate the radius of the protostar, in solar radii, when most of the gas throughout the protostar is ionized.\n",
    "\n",
    "We will define the following quantities:\n",
    "- Mass and radius of the protostar M and R.\n",
    "- Dissociation energy of the H2 molecule: $\\epsilon_D = 4.5$ \\[eV\\].\n",
    "- Ionization energy of H atom: $\\epsilon_I = 13.6$ \\[eV\\].\n",
    "___\n",
    "\n",
    "Recall 1 solar mass $\\simeq 1.989\\times 10^{30}$ \\[kg\\]. And the mass of a mole of hydrogen, $m_H\\simeq 1.67\\times 10^{-27}$ \\[kg\\] (thus the mass of an $H_2$ molecule, $m_{H_2} \\simeq 3.35\\times 10^{-27}$ \\[kg\\]).\n",
    "\n",
    "We are given that the dissociation energy of the $H_2$ molecule, $\\epsilon_D = 4.5$ \\[eV\\], and the ionization energy of H atom, $\\epsilon_I = 13.6$ \\[eV\\]. The energy required to dissociate and ionize all the hydrogen is,\n",
    "\n",
    "$$\\frac{M}{2m_H}\\epsilon_D + \\frac{M}{m_H}\\epsilon_I$$\n",
    "\n",
    "If the energy is purely supplied by the protostar shrinking from a radius $R_1$ to $R_2$,\n",
    "\n",
    "$$\\frac{GM^2}{R_2} - \\frac{GM^2}{R_1} \\simeq \\frac{M}{2m_H}\\epsilon_D + \\frac{M}{m_H}\\epsilon_I$$\n",
    "\n",
    "Thus, by solving for the radius,\n",
    "\n",
    "$$R \\simeq \\frac{GMm_H}{\\epsilon_D + 2\\epsilon_I}$$\n",
    "\n",
    "when plugging in our values we find,"
   ]
  },
  {
   "cell_type": "code",
   "execution_count": 2,
   "metadata": {},
   "outputs": [],
   "source": [
    "Msun = (1 * u.Msun).to(u.kg)\n",
    "MH2 = (2*1.00794 *u.u).to(u.kg)\n",
    "\n",
    "eD = 4.5*u.eV\n",
    "eI = 13.6*u.eV"
   ]
  },
  {
   "cell_type": "code",
   "execution_count": 3,
   "metadata": {},
   "outputs": [
    {
     "data": {
      "text/latex": [
       "$126 \\; \\mathrm{R_{\\odot}}$"
      ],
      "text/plain": [
       "<Quantity 126. solRad>"
      ]
     },
     "execution_count": 3,
     "metadata": {},
     "output_type": "execute_result"
    }
   ],
   "source": [
    "R = (const.G * Msun * MH2 / (eD+2*eI)).to(u.Rsun)\n",
    "R.round(0)"
   ]
  },
  {
   "cell_type": "markdown",
   "metadata": {},
   "source": [
    "___\n",
    "## (2) Reaching Quasi-Hydrostatic Equilibrium\n",
    "\n",
    "After the ionization is complete throughout most of the protostar, the temperature begins to rise and the increase in pressure quickly forces hydrostatic equilibrium. We can take the potential energy calculated in Section 1. Calculate the average internal temperature when equilibrium is reached (think in terms of the virial theorem). Does this temperature depend on the protostar’s mass?\n",
    "\n",
    "_Hint:_ when calculating the thermal energy, remember that the gas has been ionized, and the electrons contribute as much as the protons, because of the equipartition of energy.\n",
    "___\n",
    "\n",
    "Using the Virial theorem, we can estimate the average internal temperature when the star approaches hydrostatic equilibrium. The total thermal kinetic energy, $K$, of the protons and electron in the medium is,\n",
    "\n",
    "$$K \\simeq \\frac{3kT}{2}\\frac{M}{\\mu m_H} = \\frac{3kTM}{m_H}$$\n",
    "\n",
    "and the gravitational energy at the end of the collapse,\n",
    "\n",
    "$$U \\simeq -\\frac{GM^2}{R_2} \\simeq -\\left(\\frac{M}{2m_H}\\epsilon_D + \\frac{M}{m_H}\\epsilon_I\\right)$$\n",
    "\n",
    "The virial theorem states, $2K + U = 0$. Which means the star reaches quasi-equilibrium at an average temperature of,\n",
    "\n",
    "$$T \\propto \\frac{1}{k}\\left(\\frac{\\epsilon_D}{12} + \\frac{2\\epsilon_I}{12}\\right)$$\n",
    "\n",
    "Pluggin in constraints and constants,"
   ]
  },
  {
   "cell_type": "code",
   "execution_count": 4,
   "metadata": {},
   "outputs": [
    {
     "data": {
      "text/latex": [
       "$30655 \\; \\mathrm{K}$"
      ],
      "text/plain": [
       "<Quantity 30655. K>"
      ]
     },
     "execution_count": 4,
     "metadata": {},
     "output_type": "execute_result"
    }
   ],
   "source": [
    "T = ((1/(12*const.k_B))*(eD + 2*eI)).to(u.K)\n",
    "T.round(0)"
   ]
  }
 ],
 "metadata": {
  "kernelspec": {
   "display_name": "Python [conda env:UHenv]",
   "language": "python",
   "name": "conda-env-UHenv-py"
  },
  "language_info": {
   "codemirror_mode": {
    "name": "ipython",
    "version": 3
   },
   "file_extension": ".py",
   "mimetype": "text/x-python",
   "name": "python",
   "nbconvert_exporter": "python",
   "pygments_lexer": "ipython3",
   "version": "3.6.7"
  }
 },
 "nbformat": 4,
 "nbformat_minor": 2
}
