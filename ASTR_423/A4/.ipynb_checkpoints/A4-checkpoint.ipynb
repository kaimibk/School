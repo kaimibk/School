{
 "cells": [
  {
   "cell_type": "markdown",
   "metadata": {},
   "source": [
    "# Assignment \\#4 : Line Broadening\n",
    "\n",
    "Kaimi Kahihikolo\n",
    "\n",
    "Due: 22 February 2019"
   ]
  },
  {
   "cell_type": "code",
   "execution_count": 1,
   "metadata": {},
   "outputs": [],
   "source": [
    "import numpy as np\n",
    "import astropy.constants as const\n",
    "import astropy.units as u"
   ]
  },
  {
   "cell_type": "markdown",
   "metadata": {},
   "source": [
    "___\n",
    "## (1) Natural Broadening\n",
    "\n",
    "1. Calculate a Lorentz profile for an absorption line corresponding to a transition with level lifetimes $\\Delta t = 10^{-8}$s, and frequency $\\nu_0$ equivalent to a wavelength of $5000 A^{\\circ}$. Make your calculation for an array of 100 frequencies centered at $\\nu_0$ (choose the range of frequencies wisely). \n",
    "1. Next, calculate and plot the Lorentz profile as a function of wavelength. Choose plot limits that will allow to appreciate the peak and wings of the profile. \n",
    "1. Estimate on your plot the FWHM of the profile in $A^{\\circ}$. It should agree with $\\Gamma /2\\pi$ transformed into $A^{\\circ}$."
   ]
  },
  {
   "cell_type": "markdown",
   "metadata": {},
   "source": [
    "### (1.1)"
   ]
  },
  {
   "cell_type": "code",
   "execution_count": null,
   "metadata": {},
   "outputs": [],
   "source": []
  },
  {
   "cell_type": "markdown",
   "metadata": {},
   "source": [
    "### (1.2)"
   ]
  },
  {
   "cell_type": "code",
   "execution_count": null,
   "metadata": {},
   "outputs": [],
   "source": []
  },
  {
   "cell_type": "markdown",
   "metadata": {},
   "source": [
    "### (1.3)"
   ]
  },
  {
   "cell_type": "code",
   "execution_count": null,
   "metadata": {},
   "outputs": [],
   "source": []
  },
  {
   "cell_type": "markdown",
   "metadata": {},
   "source": [
    "___\n",
    "## (2) Doppler Broadening\n",
    "\n",
    "1. Calculate $V_{th}$ and $\\Delta \\lambda_D$ for MgII line at 4481 $A^{\\circ}$, at a temperature of 10000 K. Calculate a Guassian profile and plot it. $$\\exp\\left(-\\frac{(\\lambda-\\lambda_0)^2}{\\Delta\\lambda_D^2}\\right)$$\n",
    "1. Calculate the intensity of the Gaussian profile at a wavelength $\\lambda = \\lambda_0 + \\Delta\\lambda_D$.\n",
    "- Now compare with the Lorentz profile calculated in Section\n",
    "1.\n",
    "1. At what wavelength, measured from λ0, will the Lorentz profile become higher than the Doppler profile?\n",
    "1. Make a plot showing both profiles (it may be\n",
    "more illustrative to plot the log of the intensity as a function of wavelength)\n"
   ]
  },
  {
   "cell_type": "markdown",
   "metadata": {},
   "source": [
    "### (2.1)"
   ]
  },
  {
   "cell_type": "code",
   "execution_count": null,
   "metadata": {},
   "outputs": [],
   "source": []
  },
  {
   "cell_type": "markdown",
   "metadata": {},
   "source": [
    "### (2.2)"
   ]
  },
  {
   "cell_type": "code",
   "execution_count": null,
   "metadata": {},
   "outputs": [],
   "source": []
  },
  {
   "cell_type": "markdown",
   "metadata": {},
   "source": [
    "### (2.3)"
   ]
  },
  {
   "cell_type": "code",
   "execution_count": null,
   "metadata": {},
   "outputs": [],
   "source": []
  },
  {
   "cell_type": "markdown",
   "metadata": {},
   "source": [
    "### (2.4)"
   ]
  },
  {
   "cell_type": "code",
   "execution_count": null,
   "metadata": {},
   "outputs": [],
   "source": []
  },
  {
   "cell_type": "markdown",
   "metadata": {},
   "source": [
    "### (2.5)"
   ]
  },
  {
   "cell_type": "code",
   "execution_count": null,
   "metadata": {},
   "outputs": [],
   "source": []
  },
  {
   "cell_type": "markdown",
   "metadata": {},
   "source": [
    "___\n",
    "## (2) Rotation\n",
    "\n",
    "1. Calculate the escape velocities for main sequence stars of spectral types O, B, A, F and G. The stellar parameters may be taken from the Hertzsprung Russell diagrams shown in the first Power-Point, or from any edition of Allen’s Astrophysical Quantities. \n",
    "1. Make a table with your input parameters and results. Which stars have the highest escape velocities? \n",
    "1. Calculate the maximum rotational broadening (total width of line profile), in $A^{\\circ}$, that we can expect to find for a B-type star. Assume a non-Hydrogen spectral line at 5000 $A^{\\circ}$. Why did I specify that it cannot be a H-line?"
   ]
  },
  {
   "cell_type": "markdown",
   "metadata": {},
   "source": [
    "### (2.1)"
   ]
  },
  {
   "cell_type": "code",
   "execution_count": null,
   "metadata": {},
   "outputs": [],
   "source": []
  },
  {
   "cell_type": "markdown",
   "metadata": {},
   "source": [
    "### (2.2)"
   ]
  },
  {
   "cell_type": "code",
   "execution_count": null,
   "metadata": {},
   "outputs": [],
   "source": []
  },
  {
   "cell_type": "markdown",
   "metadata": {},
   "source": [
    "### (2.3)"
   ]
  },
  {
   "cell_type": "code",
   "execution_count": null,
   "metadata": {},
   "outputs": [],
   "source": []
  }
 ],
 "metadata": {
  "kernelspec": {
   "display_name": "Python [conda env:UHenv]",
   "language": "python",
   "name": "conda-env-UHenv-py"
  },
  "language_info": {
   "codemirror_mode": {
    "name": "ipython",
    "version": 3
   },
   "file_extension": ".py",
   "mimetype": "text/x-python",
   "name": "python",
   "nbconvert_exporter": "python",
   "pygments_lexer": "ipython3",
   "version": "3.6.7"
  }
 },
 "nbformat": 4,
 "nbformat_minor": 2
}
