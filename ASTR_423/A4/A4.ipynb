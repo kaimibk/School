{
 "cells": [
  {
   "cell_type": "markdown",
   "metadata": {},
   "source": [
    "# Assignment \\#4 : Line Broadening\n",
    "\n",
    "Kaimi Kahihikolo\n",
    "\n",
    "Due: 22 February 2019"
   ]
  },
  {
   "cell_type": "code",
   "execution_count": 82,
   "metadata": {},
   "outputs": [],
   "source": [
    "import numpy as np\n",
    "import astropy.constants as const\n",
    "import astropy.units as u\n",
    "import matplotlib.pyplot as plt\n",
    "plt.style.use('seaborn')"
   ]
  },
  {
   "cell_type": "markdown",
   "metadata": {},
   "source": [
    "___\n",
    "## (1) Natural Broadening\n",
    "\n",
    "1. Calculate a Lorentz profile for an absorption line corresponding to a transition with level lifetimes $\\Delta t = 10^{-8}$s, and frequency $\\nu_0$ equivalent to a wavelength of $5000 A^{\\circ}$. Make your calculation for an array of 100 frequencies centered at $\\nu_0$ (choose the range of frequencies wisely). \n",
    "1. Next, calculate and plot the Lorentz profile as a function of wavelength. Choose plot limits that will allow to appreciate the peak and wings of the profile. \n",
    "1. Estimate on your plot the FWHM of the profile in $A^{\\circ}$. It should agree with $\\Gamma /2\\pi$ transformed into $A^{\\circ}$."
   ]
  },
  {
   "cell_type": "code",
   "execution_count": 83,
   "metadata": {},
   "outputs": [],
   "source": [
    "lifetime = 1e-8 *u.s\n",
    "nu0 = (const. c / (5000 * u.AA)).to('Hz')"
   ]
  },
  {
   "cell_type": "markdown",
   "metadata": {},
   "source": [
    "### (1.1)"
   ]
  },
  {
   "cell_type": "code",
   "execution_count": 84,
   "metadata": {},
   "outputs": [],
   "source": [
    "def lorentz(nus, nu0=nu0, time=lifetime):\n",
    "    Gamma = 1./time\n",
    "    term1 = Gamma\n",
    "    term2 = (4*np.pi**2)*(nus-nu0)**2\n",
    "    term3 = (Gamma/(2.))**2\n",
    "    \n",
    "    return term1 * 1./(term2 + term3)"
   ]
  },
  {
   "cell_type": "code",
   "execution_count": 123,
   "metadata": {},
   "outputs": [],
   "source": [
    "nus = np.arange(nu0.value - 1e8, nu0.value + 1e8, 100) * u.Hz\n",
    "profile = lorentz(nus, nu0, lifetime)"
   ]
  },
  {
   "cell_type": "markdown",
   "metadata": {},
   "source": [
    "### (1.2)"
   ]
  },
  {
   "cell_type": "code",
   "execution_count": 133,
   "metadata": {},
   "outputs": [
    {
     "data": {
      "image/png": "[encoded data removed]",
      "text/plain": [
       "<Figure size 1152x648 with 1 Axes>"
      ]
     },
     "metadata": {},
     "output_type": "display_data"
    }
   ],
   "source": [
    "fig = plt.figure(figsize=(16,9))\n",
    "plt.plot(const.c / nus, profile.value/ np.trapz(profile.value))\n",
    "\n",
    "plt.xlabel('$\\lambda [\\AA]$')\n",
    "plt.savefig('lorentz.png', dpi=300, bbox_inches='tight')"
   ]
  },
  {
   "cell_type": "markdown",
   "metadata": {},
   "source": [
    "### (1.3)"
   ]
  },
  {
   "cell_type": "code",
   "execution_count": 131,
   "metadata": {},
   "outputs": [
    {
     "name": "stdout",
     "output_type": "stream",
     "text": [
      "FWHM [from curve] = 18.837 m\n",
      "Damping Constant [Gamma/2pi] = 18.837 m\n"
     ]
    }
   ],
   "source": [
    "def fwhm(x, y, k=3):\n",
    "    from scipy.interpolate import splrep, sproot, splev\n",
    "    \"\"\"\n",
    "    Determine full-with-half-maximum of a peaked set of points, x and y. The function\n",
    "    uses a spline interpolation of order k.\n",
    "    \"\"\"\n",
    "\n",
    "    half_max = np.amax(y)/2.0\n",
    "    s = splrep(x, y - half_max, k=k)\n",
    "    roots = sproot(s)\n",
    "    \n",
    "    return abs(roots[1] - roots[0])\n",
    "\n",
    "fwhm_lorentz = (fwhm(nus.value, profile.value))*u.Hz\n",
    "print(f\"FWHM [from curve] = {(const.c / fwhm_lorentz).decompose().round(3)}\")\n",
    "\n",
    "print(f\"Damping Constant [Gamma/2pi] = {(const.c /((1./ lifetime) / (2*np.pi))).round(3)}\")"
   ]
  },
  {
   "cell_type": "markdown",
   "metadata": {},
   "source": [
    "___\n",
    "## (2) Doppler Broadening\n",
    "\n",
    "1. Calculate $V_{th}$ and $\\Delta \\lambda_D$ for MgII line at 4481 $A^{\\circ}$, at a temperature of 10000 K. Calculate a Guassian profile and plot it. $$\\exp\\left(-\\frac{(\\lambda-\\lambda_0)^2}{\\Delta\\lambda_D^2}\\right)$$\n",
    "1. Calculate the intensity of the Gaussian profile at a wavelength $\\lambda = \\lambda_0 + \\Delta\\lambda_D$.\n",
    "- Now compare with the Lorentz profile calculated in Section\n",
    "1.\n",
    "1. At what wavelength, measured from λ0, will the Lorentz profile become higher than the Doppler profile?\n",
    "1. Make a plot showing both profiles (it may be\n",
    "more illustrative to plot the log of the intensity as a function of wavelength)\n"
   ]
  },
  {
   "cell_type": "markdown",
   "metadata": {},
   "source": [
    "### (2.1)"
   ]
  },
  {
   "cell_type": "code",
   "execution_count": null,
   "metadata": {},
   "outputs": [],
   "source": []
  },
  {
   "cell_type": "markdown",
   "metadata": {},
   "source": [
    "### (2.2)"
   ]
  },
  {
   "cell_type": "code",
   "execution_count": null,
   "metadata": {},
   "outputs": [],
   "source": []
  },
  {
   "cell_type": "markdown",
   "metadata": {},
   "source": [
    "### (2.3)"
   ]
  },
  {
   "cell_type": "code",
   "execution_count": null,
   "metadata": {},
   "outputs": [],
   "source": []
  },
  {
   "cell_type": "markdown",
   "metadata": {},
   "source": [
    "### (2.4)"
   ]
  },
  {
   "cell_type": "code",
   "execution_count": null,
   "metadata": {},
   "outputs": [],
   "source": []
  },
  {
   "cell_type": "markdown",
   "metadata": {},
   "source": [
    "### (2.5)"
   ]
  },
  {
   "cell_type": "code",
   "execution_count": null,
   "metadata": {},
   "outputs": [],
   "source": []
  },
  {
   "cell_type": "markdown",
   "metadata": {},
   "source": [
    "___\n",
    "## (2) Rotation\n",
    "\n",
    "1. Calculate the escape velocities for main sequence stars of spectral types O, B, A, F and G. The stellar parameters may be taken from the Hertzsprung Russell diagrams shown in the first Power-Point, or from any edition of Allen’s Astrophysical Quantities. \n",
    "1. Make a table with your input parameters and results. Which stars have the highest escape velocities? \n",
    "1. Calculate the maximum rotational broadening (total width of line profile), in $A^{\\circ}$, that we can expect to find for a B-type star. Assume a non-Hydrogen spectral line at 5000 $A^{\\circ}$. Why did I specify that it cannot be a H-line?"
   ]
  },
  {
   "cell_type": "markdown",
   "metadata": {},
   "source": [
    "### (2.1)"
   ]
  },
  {
   "cell_type": "code",
   "execution_count": null,
   "metadata": {},
   "outputs": [],
   "source": []
  },
  {
   "cell_type": "markdown",
   "metadata": {},
   "source": [
    "### (2.2)"
   ]
  },
  {
   "cell_type": "code",
   "execution_count": null,
   "metadata": {},
   "outputs": [],
   "source": []
  },
  {
   "cell_type": "markdown",
   "metadata": {},
   "source": [
    "### (2.3)"
   ]
  },
  {
   "cell_type": "code",
   "execution_count": null,
   "metadata": {},
   "outputs": [],
   "source": []
  }
 ],
 "metadata": {
  "kernelspec": {
   "display_name": "Python [conda env:UHenv]",
   "language": "python",
   "name": "conda-env-UHenv-py"
  },
  "language_info": {
   "codemirror_mode": {
    "name": "ipython",
    "version": 3
   },
   "file_extension": ".py",
   "mimetype": "text/x-python",
   "name": "python",
   "nbconvert_exporter": "python",
   "pygments_lexer": "ipython3",
   "version": "3.6.7"
  }
 },
 "nbformat": 4,
 "nbformat_minor": 2
}
