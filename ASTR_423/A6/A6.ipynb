{
 "cells": [
  {
   "cell_type": "markdown",
   "metadata": {},
   "source": [
    "# Assignment \\#6 : Nuclear Reactions\n",
    "\n",
    "Kaimi Kahihikolo\n",
    "\n",
    "Due: 25 March 2019"
   ]
  },
  {
   "cell_type": "code",
   "execution_count": 1,
   "metadata": {},
   "outputs": [],
   "source": [
    "import astropy.constants as const\n",
    "import astropy.units as u\n",
    "u.imperial.enable();"
   ]
  },
  {
   "cell_type": "markdown",
   "metadata": {},
   "source": [
    "___\n",
    "## (1) Average Energy Generation Rate\n",
    "\n",
    "- **(1.1)** Calculate the energy generation rate per unit mass in the Sun, in ergs per gram per second. \n",
    "\n",
    "- **(1.2)** Compare with the case of a human being with a mass of 80 kg producing 2000 kilocalories per day. What is a calorie? Check in the section about units in Astrophysical Quantities.\n",
    "\n",
    "- **(1.3)** Compare also with the average rate of energy production per unit mass in a typical car.\n",
    "___"
   ]
  },
  {
   "cell_type": "markdown",
   "metadata": {},
   "source": [
    "### (1.1) For the Sun...\n",
    "Given that $M_\\odot \\simeq 1.9884754 \\times 10^{33} \\, [g]$ and $L_\\odot \\simeq 3.828 \\times 10^{33} \\, [erg \\, s^{-1}]$. The energy generation rate per unit mass in the sun is,\n",
    "\n",
    "$$q = \\frac{L_\\odot}{M_\\odot}$$\n",
    "\n",
    "which is"
   ]
  },
  {
   "cell_type": "code",
   "execution_count": 2,
   "metadata": {},
   "outputs": [
    {
     "data": {
      "text/latex": [
       "$1.93 \\; \\mathrm{\\frac{erg}{g\\,s}}$"
      ],
      "text/plain": [
       "<Quantity 1.93 erg / (g s)>"
      ]
     },
     "execution_count": 2,
     "metadata": {},
     "output_type": "execute_result"
    }
   ],
   "source": [
    "P_sun = const.L_sun.to(u.erg/u.s)\n",
    "M_sun = const.M_sun.to(u.g)\n",
    "\n",
    "(P_sun/M_sun).round(2)"
   ]
  },
  {
   "cell_type": "markdown",
   "metadata": {},
   "source": [
    "### (1.2) For the Average Human...\n",
    "\n",
    "The average human produces 2000 kilocalories per day, which is equivalent to $4184 \\, [J]$ per day or $4.184 \\times 10^{10} \\, [erg]$ per day. If the mass of an average human is $80 \\, [kg]$, then the average energy generation rate is,"
   ]
  },
  {
   "cell_type": "code",
   "execution_count": 3,
   "metadata": {},
   "outputs": [
    {
     "data": {
      "text/latex": [
       "$12106.48 \\; \\mathrm{\\frac{erg}{g\\,s}}$"
      ],
      "text/plain": [
       "<Quantity 12106.48 erg / (g s)>"
      ]
     },
     "execution_count": 3,
     "metadata": {},
     "output_type": "execute_result"
    }
   ],
   "source": [
    "P_human = (2000. * u.imperial.kcal / u.day).to(u.erg/u.s)\n",
    "M_human = (80. * u.kg).to(u.g)\n",
    "\n",
    "(P_human / M_human).round(2)"
   ]
  },
  {
   "cell_type": "markdown",
   "metadata": {},
   "source": [
    "### (1.3) For the Average Car...\n",
    "\n",
    "Take an average car, for example the Honda civic, which has a horsepower of about 180 hp and weighs approximately 3000 lbs. $180 \\, [hp] \\simeq 1.34 \\times 10^{12} \\, [erg\\, s^{-1}]$ and $3000 \\, [lbs]$ $\\simeq$ $1360777 \\, [g]$."
   ]
  },
  {
   "cell_type": "code",
   "execution_count": 4,
   "metadata": {},
   "outputs": [
    {
     "data": {
      "text/latex": [
       "$986392.08 \\; \\mathrm{\\frac{erg}{g\\,s}}$"
      ],
      "text/plain": [
       "<Quantity 986392.08 erg / (g s)>"
      ]
     },
     "execution_count": 4,
     "metadata": {},
     "output_type": "execute_result"
    }
   ],
   "source": [
    "M_car = (3000. * u.imperial.lb).to(u.g)\n",
    "P_car = (180. *u.imperial.hp).to(u.erg/u.s)\n",
    "\n",
    "(P_car / M_car).round(2)"
   ]
  },
  {
   "cell_type": "markdown",
   "metadata": {},
   "source": [
    "In summary,\n",
    "\n",
    "| Honda Civic | Average Human | Our Sun | Units |\n",
    "| :---: | :---: | :---: | ---: |\n",
    "| $9.8\\times 10^{7}$ | $1.21\\times 10^{4}$ | $1.93$ | $\\frac{erg}{g\\,s}$ |"
   ]
  },
  {
   "cell_type": "markdown",
   "metadata": {},
   "source": [
    "___\n",
    "## (2) Energy Production\n",
    "\n",
    "- **(2.1)** Using the table of atomic mass excesses, calculate the energy in MeV generated in the production of an alpha particle (He nucleus) by the fusion of 4 protons in the solar core.\n",
    "\n",
    "- **(2.2)** What mass of He per second must be generated to produce the solar luminosity?\n",
    "\n",
    "- **(2.3)** Finally, calculate the energy in MeV generated in the production of a ${}^{12} C$ nucleus by the fusion of 3 alpha particles.\n",
    "___"
   ]
  },
  {
   "cell_type": "markdown",
   "metadata": {},
   "source": [
    "### (2.1) Producing an Alpha Particle (He Nucleus)\n",
    "\n",
    "The reaction of interest is, $4 H' \\rightarrow He^{4} + E$, where $E$ is the excess energy. We can calculate the energy in this process from the mass excessess. Recall that $\\Delta m \\, H' = 7.28899$ and $\\Delta m \\, He^{4} = 2.42475$.\n",
    "\n",
    "Thus,\n",
    "\n",
    "$$\\Delta m \\, H' \\cdot 4 - \\Delta m \\, He^{4} = $$"
   ]
  },
  {
   "cell_type": "code",
   "execution_count": 5,
   "metadata": {},
   "outputs": [
    {
     "data": {
      "text/latex": [
       "$26.73121 \\; \\mathrm{MeV}$"
      ],
      "text/plain": [
       "<Quantity 26.73121 MeV>"
      ]
     },
     "execution_count": 5,
     "metadata": {},
     "output_type": "execute_result"
    }
   ],
   "source": [
    "H = 7.28899 * u.MeV\n",
    "He4 = 2.42475 *u.MeV\n",
    "\n",
    "H_He = (4*H - He4)\n",
    "H_He"
   ]
  },
  {
   "cell_type": "markdown",
   "metadata": {},
   "source": [
    "Thus the energy produced is about $26.73 \\, [MeV]$."
   ]
  },
  {
   "cell_type": "markdown",
   "metadata": {},
   "source": [
    "### (2.2) Solar Luminosity\n",
    "\n",
    "If we compare the ratio of $L_\\odot : \\text{\"H_He\"}$, we can arrive at an estimate for the average reactions per second."
   ]
  },
  {
   "cell_type": "code",
   "execution_count": 6,
   "metadata": {},
   "outputs": [
    {
     "data": {
      "text/latex": [
       "$8.9380529 \\times 10^{37} \\; \\mathrm{\\frac{1}{s}}$"
      ],
      "text/plain": [
       "<Quantity 8.93805291e+37 1 / s>"
      ]
     },
     "execution_count": 6,
     "metadata": {},
     "output_type": "execute_result"
    }
   ],
   "source": [
    "Rate = (const.L_sun / H_He).decompose()\n",
    "Rate"
   ]
  },
  {
   "cell_type": "markdown",
   "metadata": {},
   "source": [
    "If we multiply this rate by $2.42475$,"
   ]
  },
  {
   "cell_type": "code",
   "execution_count": 7,
   "metadata": {},
   "outputs": [
    {
     "data": {
      "text/latex": [
       "$2.1672544 \\times 10^{38} \\; \\mathrm{\\frac{MeV}{s}}$"
      ],
      "text/plain": [
       "<Quantity 2.16725438e+38 MeV / s>"
      ]
     },
     "execution_count": 7,
     "metadata": {},
     "output_type": "execute_result"
    }
   ],
   "source": [
    "(Rate * He4)"
   ]
  },
  {
   "cell_type": "markdown",
   "metadata": {},
   "source": [
    "When expressed in terms of grams, is approximately $6 \\times 10^{14} \\, [g \\, s^{-1}]$."
   ]
  },
  {
   "cell_type": "markdown",
   "metadata": {},
   "source": [
    "### (2.3) C$^{12}$ Production\n",
    "\n",
    "We now want to calculate the energy production of $3 He^{4} \\rightarrow C^{12}$. If we recall that $\\Delta m \\, He = 2.42475$ and $\\Delta m \\, C^{12} = 0$.\n",
    "\n",
    "$$\\Delta m \\, He^{4} \\cdot 3 - 0 = $$"
   ]
  },
  {
   "cell_type": "code",
   "execution_count": 8,
   "metadata": {},
   "outputs": [
    {
     "data": {
      "text/latex": [
       "$7.27425 \\; \\mathrm{MeV}$"
      ],
      "text/plain": [
       "<Quantity 7.27425 MeV>"
      ]
     },
     "execution_count": 8,
     "metadata": {},
     "output_type": "execute_result"
    }
   ],
   "source": [
    "3 * He4"
   ]
  },
  {
   "cell_type": "markdown",
   "metadata": {},
   "source": [
    "Thus, the energy generated in the production of ${}^{12} C$ is approximately $7.27 \\, [MeV]$"
   ]
  }
 ],
 "metadata": {
  "kernelspec": {
   "display_name": "Python [conda env:UHenv]",
   "language": "python",
   "name": "conda-env-UHenv-py"
  },
  "language_info": {
   "codemirror_mode": {
    "name": "ipython",
    "version": 3
   },
   "file_extension": ".py",
   "mimetype": "text/x-python",
   "name": "python",
   "nbconvert_exporter": "python",
   "pygments_lexer": "ipython3",
   "version": "3.6.7"
  }
 },
 "nbformat": 4,
 "nbformat_minor": 2
}
