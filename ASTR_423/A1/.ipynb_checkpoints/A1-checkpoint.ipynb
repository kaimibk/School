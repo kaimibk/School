{
 "cells": [
  {
   "cell_type": "markdown",
   "metadata": {},
   "source": [
    "## Assignment \\#1 : Estimating the Distance to the Pleiades"
   ]
  },
  {
   "cell_type": "markdown",
   "metadata": {},
   "source": [
    "Pleiades is an open star cluster located at approximately $(RA, \\, DEC)_{2000} = (3h47m, +24^\\circ 03')$ and approximately $450 \\, [ly]$ ($\\simeq 4\\times 10^{15} \\, [km]$) away. The goal of this assignment is to estimate the distance to this cluster using a sample from the Hipparcos catalog."
   ]
  },
  {
   "cell_type": "code",
   "execution_count": 1,
   "metadata": {},
   "outputs": [],
   "source": [
    "import numpy as np\n",
    "import pandas as pd\n",
    "import matplotlib.pyplot as plt\n",
    "plt.style.use('ggplot')"
   ]
  },
  {
   "cell_type": "markdown",
   "metadata": {},
   "source": [
    "___\n",
    "## Retrieving Data from the Hipparcos Catalog\n",
    "\n",
    "The recent Hipparcos catalog (I/311) is available on Vizier, located [here](http://cdsarc.u-strasbg.fr/viz-bin/VizieR?-meta.foot&-source=I/311). We will extract the data automatically using the _astroquery_ library&mdash;an _astropy_ affilited package&mdash; which can be used to access online astronomical data."
   ]
  },
  {
   "cell_type": "code",
   "execution_count": 2,
   "metadata": {},
   "outputs": [
    {
     "name": "stdout",
     "output_type": "stream",
     "text": [
      "{'I/311': 'Hipparcos, the New Reduction (van Leeuwen, 2007)'}\n"
     ]
    }
   ],
   "source": [
    "from astroquery.vizier import Vizier\n",
    "catalog_list = Vizier.find_catalogs('I/311')\n",
    "\n",
    "print({k:v.description for k,v in catalog_list.items()})\n",
    "\n",
    "Vizier.ROW_LIMIT = -1\n",
    "catalogs = Vizier.get_catalogs(catalog_list.keys())"
   ]
  },
  {
   "cell_type": "markdown",
   "metadata": {},
   "source": [
    "Searching for the Pleiades in the catalog"
   ]
  },
  {
   "cell_type": "code",
   "execution_count": 3,
   "metadata": {},
   "outputs": [],
   "source": [
    "from astropy.coordinates import Angle\n",
    "\n",
    "# Only extract the following quantities\n",
    "v = Vizier(columns=['HIP', 'RArad','DErad', 'Plx', 'e_Plx', 'pmRA', 'pmDE', 'B-V', 'V-I', 'Hpmag', 'e_Hpmag'])\n",
    "       \n",
    "# Query the catalog around Pleiades with a search radius of 2 degrees\n",
    "result = v.query_region(\"Pleiades\", radius=Angle(2.0, \"deg\"), catalog=\"I/311/\")\n",
    "\n",
    "df = result['I/311/hip2'].to_pandas()"
   ]
  },
  {
   "cell_type": "code",
   "execution_count": 4,
   "metadata": {},
   "outputs": [
    {
     "name": "stdout",
     "output_type": "stream",
     "text": [
      "47 Stars Retrieved...\n"
     ]
    },
    {
     "data": {
      "text/html": [
       "<div>\n",
       "<style scoped>\n",
       "    .dataframe tbody tr th:only-of-type {\n",
       "        vertical-align: middle;\n",
       "    }\n",
       "\n",
       "    .dataframe tbody tr th {\n",
       "        vertical-align: top;\n",
       "    }\n",
       "\n",
       "    .dataframe thead th {\n",
       "        text-align: right;\n",
       "    }\n",
       "</style>\n",
       "<table border=\"1\" class=\"dataframe\">\n",
       "  <thead>\n",
       "    <tr style=\"text-align: right;\">\n",
       "      <th></th>\n",
       "      <th>HIP</th>\n",
       "      <th>RArad</th>\n",
       "      <th>DErad</th>\n",
       "      <th>Plx</th>\n",
       "      <th>e_Plx</th>\n",
       "      <th>pmRA</th>\n",
       "      <th>pmDE</th>\n",
       "      <th>B-V</th>\n",
       "      <th>V-I</th>\n",
       "      <th>Hpmag</th>\n",
       "      <th>e_Hpmag</th>\n",
       "    </tr>\n",
       "  </thead>\n",
       "  <tbody>\n",
       "    <tr>\n",
       "      <th>0</th>\n",
       "      <td>16996.0</td>\n",
       "      <td>54.649570</td>\n",
       "      <td>24.601687</td>\n",
       "      <td>896.0</td>\n",
       "      <td>107.000008</td>\n",
       "      <td>3.47</td>\n",
       "      <td>-22.69</td>\n",
       "      <td>0.428</td>\n",
       "      <td>0.50</td>\n",
       "      <td>8.3007</td>\n",
       "      <td>0.0012</td>\n",
       "    </tr>\n",
       "    <tr>\n",
       "      <th>1</th>\n",
       "      <td>17020.0</td>\n",
       "      <td>54.736883</td>\n",
       "      <td>24.569915</td>\n",
       "      <td>298.0</td>\n",
       "      <td>275.000000</td>\n",
       "      <td>21.24</td>\n",
       "      <td>-44.93</td>\n",
       "      <td>0.645</td>\n",
       "      <td>0.71</td>\n",
       "      <td>10.6845</td>\n",
       "      <td>0.0041</td>\n",
       "    </tr>\n",
       "    <tr>\n",
       "      <th>2</th>\n",
       "      <td>17034.0</td>\n",
       "      <td>54.777958</td>\n",
       "      <td>24.702983</td>\n",
       "      <td>832.0</td>\n",
       "      <td>79.000008</td>\n",
       "      <td>23.91</td>\n",
       "      <td>-45.11</td>\n",
       "      <td>0.039</td>\n",
       "      <td>0.05</td>\n",
       "      <td>7.1287</td>\n",
       "      <td>0.0008</td>\n",
       "    </tr>\n",
       "    <tr>\n",
       "      <th>3</th>\n",
       "      <td>17044.0</td>\n",
       "      <td>54.806084</td>\n",
       "      <td>24.466631</td>\n",
       "      <td>1019.0</td>\n",
       "      <td>219.000015</td>\n",
       "      <td>23.24</td>\n",
       "      <td>-43.11</td>\n",
       "      <td>0.616</td>\n",
       "      <td>0.68</td>\n",
       "      <td>10.5328</td>\n",
       "      <td>0.0040</td>\n",
       "    </tr>\n",
       "    <tr>\n",
       "      <th>4</th>\n",
       "      <td>17091.0</td>\n",
       "      <td>54.921506</td>\n",
       "      <td>23.290987</td>\n",
       "      <td>1182.0</td>\n",
       "      <td>194.000015</td>\n",
       "      <td>26.82</td>\n",
       "      <td>-44.23</td>\n",
       "      <td>0.608</td>\n",
       "      <td>0.68</td>\n",
       "      <td>10.0767</td>\n",
       "      <td>0.0050</td>\n",
       "    </tr>\n",
       "  </tbody>\n",
       "</table>\n",
       "</div>"
      ],
      "text/plain": [
       "       HIP      RArad      DErad     Plx       e_Plx   pmRA   pmDE    B-V  \\\n",
       "0  16996.0  54.649570  24.601687   896.0  107.000008   3.47 -22.69  0.428   \n",
       "1  17020.0  54.736883  24.569915   298.0  275.000000  21.24 -44.93  0.645   \n",
       "2  17034.0  54.777958  24.702983   832.0   79.000008  23.91 -45.11  0.039   \n",
       "3  17044.0  54.806084  24.466631  1019.0  219.000015  23.24 -43.11  0.616   \n",
       "4  17091.0  54.921506  23.290987  1182.0  194.000015  26.82 -44.23  0.608   \n",
       "\n",
       "    V-I    Hpmag  e_Hpmag  \n",
       "0  0.50   8.3007   0.0012  \n",
       "1  0.71  10.6845   0.0041  \n",
       "2  0.05   7.1287   0.0008  \n",
       "3  0.68  10.5328   0.0040  \n",
       "4  0.68  10.0767   0.0050  "
      ]
     },
     "execution_count": 4,
     "metadata": {},
     "output_type": "execute_result"
    }
   ],
   "source": [
    "print(f\"{len(df.index)} Stars Retrieved...\")\n",
    "\n",
    "# The Parallax (Plx) is given in milli-arcsecond, so let us convert it to arcseconds.\n",
    "df.Plx = df.Plx / (10e-3)\n",
    "df.e_Plx = df.e_Plx / (10e-3)\n",
    "\n",
    "df.head()"
   ]
  },
  {
   "cell_type": "markdown",
   "metadata": {},
   "source": [
    "## Visual Inspection of the Data"
   ]
  },
  {
   "cell_type": "code",
   "execution_count": 8,
   "metadata": {},
   "outputs": [
    {
     "data": {
      "image/png": "[encoded data removed]",
      "text/plain": [
       "<matplotlib.figure.Figure at 0x1149be160>"
      ]
     },
     "metadata": {},
     "output_type": "display_data"
    },
    {
     "name": "stdout",
     "output_type": "stream",
     "text": [
      "Mean Distance = 1.11e-03 [pc]\n"
     ]
    }
   ],
   "source": [
    "fig = plt.figure(figsize=(16,9))\n",
    "\n",
    "mean = df.Plx.mean()\n",
    "std = df.Plx.std()\n",
    "\n",
    "plt.hist(df.Plx)\n",
    "\n",
    "for i, color in enumerate(plt.cm.cool(np.linspace(1, 0, 4))):\n",
    "    plt.axvline(mean + (i)*std, color=color, label=f'$\\pm {i}\\sigma$')\n",
    "    plt.axvline(mean - (i)*std, color=color)\n",
    "\n",
    "plt.xlabel('Parallax [arcsec]')\n",
    "plt.legend(loc='best')\n",
    "plt.show()\n",
    "\n",
    "print(f\"Mean Distance = {'{:.2e}'.format(1/mean)} [pc]\")"
   ]
  },
  {
   "cell_type": "markdown",
   "metadata": {},
   "source": [
    "As we can see, there are a spread of Parallax measurements, which is indicative of contaimination from foreground (or background) stars."
   ]
  },
  {
   "cell_type": "markdown",
   "metadata": {},
   "source": [
    "___\n",
    "## Color-Magnitude Diagram\n",
    "\n",
    "Here we plot a color-magnitude diagram for the Pleiades members with the parallax represeted by color."
   ]
  },
  {
   "cell_type": "code",
   "execution_count": 156,
   "metadata": {},
   "outputs": [
    {
     "data": {
      "image/png": "[encoded data removed]",
      "text/plain": [
       "<matplotlib.figure.Figure at 0x118bdb3c8>"
      ]
     },
     "metadata": {},
     "output_type": "display_data"
    }
   ],
   "source": [
    "fig = plt.figure(figsize=(16,9))\n",
    "trim_df = df[(df.Plx > mean+std) | (df.Plx < mean - std)]\n",
    "\n",
    "plt.scatter(df[\"B-V\"], df.Hpmag, c=df.Plx/df.Plx.max(), cmap=plt.cm.cool, s=100)\n",
    "plt.colorbar()\n",
    "\n",
    "plt.scatter(trim_df[\"B-V\"], trim_df.Hpmag, s=400, facecolors='none', edgecolors= 'k')\n",
    "\n",
    "plt.ylim(12, 2)\n",
    "\n",
    "plt.xlabel('$B-V$')\n",
    "plt.ylabel('Hpmag')\n",
    "\n",
    "plt.show()"
   ]
  },
  {
   "cell_type": "markdown",
   "metadata": {},
   "source": [
    "___\n",
    "## Removing Contamination\n",
    "\n",
    "As we can see from the color-magnitude diagram, there exists a few outlier stars."
   ]
  },
  {
   "cell_type": "code",
   "execution_count": null,
   "metadata": {},
   "outputs": [],
   "source": []
  }
 ],
 "metadata": {
  "kernelspec": {
   "display_name": "Python [conda env:UHenv]",
   "language": "python",
   "name": "conda-env-UHenv-py"
  },
  "language_info": {
   "codemirror_mode": {
    "name": "ipython",
    "version": 3
   },
   "file_extension": ".py",
   "mimetype": "text/x-python",
   "name": "python",
   "nbconvert_exporter": "python",
   "pygments_lexer": "ipython3",
   "version": "3.6.1"
  }
 },
 "nbformat": 4,
 "nbformat_minor": 2
}
